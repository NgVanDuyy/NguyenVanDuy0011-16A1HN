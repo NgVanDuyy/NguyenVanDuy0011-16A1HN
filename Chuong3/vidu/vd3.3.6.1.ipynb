{
 "cells": [
  {
   "cell_type": "code",
   "execution_count": 4,
   "metadata": {},
   "outputs": [
    {
     "ename": "TypeError",
     "evalue": "where() got an unexpected keyword argument 'arr'",
     "output_type": "error",
     "traceback": [
      "\u001b[1;31m---------------------------------------------------------------------------\u001b[0m",
      "\u001b[1;31mTypeError\u001b[0m                                 Traceback (most recent call last)",
      "\u001b[1;32md:\\Chuong3\\vidu\\vd3.3.6.1.ipynb Cell 1\u001b[0m line \u001b[0;36m5\n\u001b[0;32m      <a href='vscode-notebook-cell:/d%3A/Chuong3/vidu/vd3.3.6.1.ipynb#W0sZmlsZQ%3D%3D?line=1'>2</a>\u001b[0m \u001b[39m#Tìm chỉ mục (vị trí) phần tử trong mảng 1 chiều:\u001b[39;00m\n\u001b[0;32m      <a href='vscode-notebook-cell:/d%3A/Chuong3/vidu/vd3.3.6.1.ipynb#W0sZmlsZQ%3D%3D?line=2'>3</a>\u001b[0m arr \u001b[39m=\u001b[39m np\u001b[39m.\u001b[39marray([\u001b[39m1\u001b[39m, \u001b[39m2\u001b[39m, \u001b[39m3\u001b[39m, \u001b[39m4\u001b[39m, \u001b[39m5\u001b[39m])\n\u001b[1;32m----> <a href='vscode-notebook-cell:/d%3A/Chuong3/vidu/vd3.3.6.1.ipynb#W0sZmlsZQ%3D%3D?line=4'>5</a>\u001b[0m imdices \u001b[39m=\u001b[39m np\u001b[39m.\u001b[39mwhere(arr\u001b[39m=\u001b[39m\u001b[39m3\u001b[39m)\n\u001b[0;32m      <a href='vscode-notebook-cell:/d%3A/Chuong3/vidu/vd3.3.6.1.ipynb#W0sZmlsZQ%3D%3D?line=5'>6</a>\u001b[0m imdices\n",
      "File \u001b[1;32m<__array_function__ internals>:198\u001b[0m, in \u001b[0;36mwhere\u001b[1;34m(*args, **kwargs)\u001b[0m\n",
      "\u001b[1;31mTypeError\u001b[0m: where() got an unexpected keyword argument 'arr'"
     ]
    }
   ],
   "source": [
    "import numpy as np\n",
    "#Tìm chỉ mục (vị trí) phần tử trong mảng 1 chiều:\n",
    "arr = np.array([1, 2, 3, 4, 5])\n",
    "imdices = np.where(arr=3)\n",
    "imdices"
   ]
  },
  {
   "cell_type": "code",
   "execution_count": 6,
   "metadata": {},
   "outputs": [
    {
     "ename": "TypeError",
     "evalue": "argwhere() got an unexpected keyword argument 'arr'",
     "output_type": "error",
     "traceback": [
      "\u001b[1;31m---------------------------------------------------------------------------\u001b[0m",
      "\u001b[1;31mTypeError\u001b[0m                                 Traceback (most recent call last)",
      "\u001b[1;32md:\\Chuong3\\vidu\\vd3.3.6.1.ipynb Cell 2\u001b[0m line \u001b[0;36m2\n\u001b[0;32m      <a href='vscode-notebook-cell:/d%3A/Chuong3/vidu/vd3.3.6.1.ipynb#W1sZmlsZQ%3D%3D?line=0'>1</a>\u001b[0m arr \u001b[39m=\u001b[39m np\u001b[39m.\u001b[39marray([\u001b[39m1\u001b[39m, \u001b[39m2\u001b[39m, \u001b[39m3\u001b[39m, \u001b[39m4\u001b[39m, \u001b[39m5\u001b[39m])\n\u001b[1;32m----> <a href='vscode-notebook-cell:/d%3A/Chuong3/vidu/vd3.3.6.1.ipynb#W1sZmlsZQ%3D%3D?line=1'>2</a>\u001b[0m imdices \u001b[39m=\u001b[39m np\u001b[39m.\u001b[39margwhere(arr\u001b[39m=\u001b[39m\u001b[39m3\u001b[39m)\n\u001b[0;32m      <a href='vscode-notebook-cell:/d%3A/Chuong3/vidu/vd3.3.6.1.ipynb#W1sZmlsZQ%3D%3D?line=2'>3</a>\u001b[0m imdices\n",
      "File \u001b[1;32m<__array_function__ internals>:198\u001b[0m, in \u001b[0;36margwhere\u001b[1;34m(*args, **kwargs)\u001b[0m\n",
      "\u001b[1;31mTypeError\u001b[0m: argwhere() got an unexpected keyword argument 'arr'"
     ]
    }
   ],
   "source": [
    "arr = np.array([1, 2, 3, 4, 5])\n",
    "imdices = np.argwhere(arr=3)\n",
    "imdices"
   ]
  }
 ],
 "metadata": {
  "kernelspec": {
   "display_name": "base",
   "language": "python",
   "name": "python3"
  },
  "language_info": {
   "codemirror_mode": {
    "name": "ipython",
    "version": 3
   },
   "file_extension": ".py",
   "mimetype": "text/x-python",
   "name": "python",
   "nbconvert_exporter": "python",
   "pygments_lexer": "ipython3",
   "version": "3.11.5"
  }
 },
 "nbformat": 4,
 "nbformat_minor": 2
}
