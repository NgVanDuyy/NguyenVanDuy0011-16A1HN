{
 "cells": [
  {
   "cell_type": "code",
   "execution_count": 1,
   "metadata": {},
   "outputs": [
    {
     "name": "stdout",
     "output_type": "stream",
     "text": [
      "Dữ liệu gốc: [179 153 198 190 187 146 105 196 117 114]\n",
      "Tỷ lệ phần trăm tăng trưởng: [ 18.35258491   1.16170666  30.91514979  25.62564879  23.64208591\n",
      "  -3.46660672 -30.57529935  29.59277454 -22.64104785 -24.62461073]\n"
     ]
    }
   ],
   "source": [
    "import numpy as np\n",
    "\n",
    "data = np.random.randint(100, 200, size=1000)\n",
    "\n",
    "mean_value = data.mean()\n",
    "percentage_growth = (data - mean_value) / mean_value * 100\n",
    "\n",
    "print(\"Dữ liệu gốc:\", data[:10])\n",
    "print(\"Tỷ lệ phần trăm tăng trưởng:\",percentage_growth[:10])"
   ]
  }
 ],
 "metadata": {
  "kernelspec": {
   "display_name": "base",
   "language": "python",
   "name": "python3"
  },
  "language_info": {
   "codemirror_mode": {
    "name": "ipython",
    "version": 3
   },
   "file_extension": ".py",
   "mimetype": "text/x-python",
   "name": "python",
   "nbconvert_exporter": "python",
   "pygments_lexer": "ipython3",
   "version": "3.11.5"
  }
 },
 "nbformat": 4,
 "nbformat_minor": 2
}
