{
 "cells": [
  {
   "cell_type": "code",
   "execution_count": 3,
   "metadata": {},
   "outputs": [
    {
     "data": {
      "text/html": [
       "<div>\n",
       "<style scoped>\n",
       "    .dataframe tbody tr th:only-of-type {\n",
       "        vertical-align: middle;\n",
       "    }\n",
       "\n",
       "    .dataframe tbody tr th {\n",
       "        vertical-align: top;\n",
       "    }\n",
       "\n",
       "    .dataframe thead th {\n",
       "        text-align: right;\n",
       "    }\n",
       "</style>\n",
       "<table border=\"1\" class=\"dataframe\">\n",
       "  <thead>\n",
       "    <tr style=\"text-align: right;\">\n",
       "      <th></th>\n",
       "      <th>Dân số</th>\n",
       "      <th>Diện tích</th>\n",
       "    </tr>\n",
       "  </thead>\n",
       "  <tbody>\n",
       "    <tr>\n",
       "      <th>Hà Nội</th>\n",
       "      <td>8330803</td>\n",
       "      <td>3358.9</td>\n",
       "    </tr>\n",
       "    <tr>\n",
       "      <th>Quảng Ninh</th>\n",
       "      <td>1358085</td>\n",
       "      <td>6177.7</td>\n",
       "    </tr>\n",
       "    <tr>\n",
       "      <th>Nam Định</th>\n",
       "      <td>1836270</td>\n",
       "      <td>1668.0</td>\n",
       "    </tr>\n",
       "    <tr>\n",
       "      <th>Đà Nẵng</th>\n",
       "      <td>1195490</td>\n",
       "      <td>1284.9</td>\n",
       "    </tr>\n",
       "    <tr>\n",
       "      <th>TP.Hồ Chí Minh</th>\n",
       "      <td>9411805</td>\n",
       "      <td>2061.0</td>\n",
       "    </tr>\n",
       "  </tbody>\n",
       "</table>\n",
       "</div>"
      ],
      "text/plain": [
       "                 Dân số  Diện tích\n",
       "Hà Nội          8330803     3358.9\n",
       "Quảng Ninh      1358085     6177.7\n",
       "Nam Định        1836270     1668.0\n",
       "Đà Nẵng         1195490     1284.9\n",
       "TP.Hồ Chí Minh  9411805     2061.0"
      ]
     },
     "execution_count": 3,
     "metadata": {},
     "output_type": "execute_result"
    }
   ],
   "source": [
    "import pandas as pd\n",
    "population = pd.Series({'Hà Nội':8330803,\n",
    "                    'Quảng Ninh':1358085,\n",
    "                    'Nam Định':1836270,\n",
    "                    'Đà Nẵng':1195490,\n",
    "                    'TP.Hồ Chí Minh':9411805})\n",
    "area = pd.Series({'Hà Nội':3358.9,\n",
    "             'Quảng Ninh':6177.7,\n",
    "             'Nam Định':1668.0,\n",
    "             'Đà Nẵng':1284.9,\n",
    "             'TP.Hồ Chí Minh':2061.0})\n",
    "data = pd.DataFrame({'Dân số':population,'Diện tích':area})\n",
    "data"
   ]
  },
  {
   "cell_type": "code",
   "execution_count": 4,
   "metadata": {},
   "outputs": [
    {
     "data": {
      "text/plain": [
       "Hà Nội            8330803\n",
       "Quảng Ninh        1358085\n",
       "Nam Định          1836270\n",
       "Đà Nẵng           1195490\n",
       "TP.Hồ Chí Minh    9411805\n",
       "Name: Dân số, dtype: int64"
      ]
     },
     "execution_count": 4,
     "metadata": {},
     "output_type": "execute_result"
    }
   ],
   "source": [
    "data['Dân số'] #Lấy cột 'Dân số'"
   ]
  },
  {
   "cell_type": "code",
   "execution_count": 5,
   "metadata": {},
   "outputs": [
    {
     "name": "stdout",
     "output_type": "stream",
     "text": [
      "                 Dân số  Diện tích  population\n",
      "Hà Nội          8330803     3358.9     8330803\n",
      "Quảng Ninh      1358085     6177.7     1358085\n",
      "Nam Định        1836270     1668.0     1836270\n",
      "Đà Nẵng         1195490     1284.9     1195490\n",
      "TP.Hồ Chí Minh  9411805     2061.0     9411805\n"
     ]
    }
   ],
   "source": [
    "data['population']=data['Dân số']\n",
    "print(data)"
   ]
  },
  {
   "cell_type": "code",
   "execution_count": 6,
   "metadata": {},
   "outputs": [
    {
     "data": {
      "text/plain": [
       "Hà Nội            8330803\n",
       "Quảng Ninh        1358085\n",
       "Nam Định          1836270\n",
       "Đà Nẵng           1195490\n",
       "TP.Hồ Chí Minh    9411805\n",
       "Name: population, dtype: int64"
      ]
     },
     "execution_count": 6,
     "metadata": {},
     "output_type": "execute_result"
    }
   ],
   "source": [
    "data.population "
   ]
  },
  {
   "cell_type": "code",
   "execution_count": 7,
   "metadata": {},
   "outputs": [
    {
     "data": {
      "text/html": [
       "<div>\n",
       "<style scoped>\n",
       "    .dataframe tbody tr th:only-of-type {\n",
       "        vertical-align: middle;\n",
       "    }\n",
       "\n",
       "    .dataframe tbody tr th {\n",
       "        vertical-align: top;\n",
       "    }\n",
       "\n",
       "    .dataframe thead th {\n",
       "        text-align: right;\n",
       "    }\n",
       "</style>\n",
       "<table border=\"1\" class=\"dataframe\">\n",
       "  <thead>\n",
       "    <tr style=\"text-align: right;\">\n",
       "      <th></th>\n",
       "      <th>Dân số</th>\n",
       "      <th>Diện tích</th>\n",
       "      <th>population</th>\n",
       "      <th>Mật độ</th>\n",
       "    </tr>\n",
       "  </thead>\n",
       "  <tbody>\n",
       "    <tr>\n",
       "      <th>Hà Nội</th>\n",
       "      <td>8330803</td>\n",
       "      <td>3358.9</td>\n",
       "      <td>8330803</td>\n",
       "      <td>2480.217631</td>\n",
       "    </tr>\n",
       "    <tr>\n",
       "      <th>Quảng Ninh</th>\n",
       "      <td>1358085</td>\n",
       "      <td>6177.7</td>\n",
       "      <td>1358085</td>\n",
       "      <td>219.836671</td>\n",
       "    </tr>\n",
       "    <tr>\n",
       "      <th>Nam Định</th>\n",
       "      <td>1836270</td>\n",
       "      <td>1668.0</td>\n",
       "      <td>1836270</td>\n",
       "      <td>1100.881295</td>\n",
       "    </tr>\n",
       "    <tr>\n",
       "      <th>Đà Nẵng</th>\n",
       "      <td>1195490</td>\n",
       "      <td>1284.9</td>\n",
       "      <td>1195490</td>\n",
       "      <td>930.414818</td>\n",
       "    </tr>\n",
       "    <tr>\n",
       "      <th>TP.Hồ Chí Minh</th>\n",
       "      <td>9411805</td>\n",
       "      <td>2061.0</td>\n",
       "      <td>9411805</td>\n",
       "      <td>4566.620573</td>\n",
       "    </tr>\n",
       "  </tbody>\n",
       "</table>\n",
       "</div>"
      ],
      "text/plain": [
       "                 Dân số  Diện tích  population       Mật độ\n",
       "Hà Nội          8330803     3358.9     8330803  2480.217631\n",
       "Quảng Ninh      1358085     6177.7     1358085   219.836671\n",
       "Nam Định        1836270     1668.0     1836270  1100.881295\n",
       "Đà Nẵng         1195490     1284.9     1195490   930.414818\n",
       "TP.Hồ Chí Minh  9411805     2061.0     9411805  4566.620573"
      ]
     },
     "execution_count": 7,
     "metadata": {},
     "output_type": "execute_result"
    }
   ],
   "source": [
    "data['Mật độ']=data['Dân số']/ data['Diện tích']\n",
    "data"
   ]
  },
  {
   "cell_type": "code",
   "execution_count": 10,
   "metadata": {},
   "outputs": [
    {
     "name": "stdout",
     "output_type": "stream",
     "text": [
      "[[8.33080300e+06 3.35890000e+03 8.33080300e+06 2.48021763e+03]\n",
      " [1.35808500e+06 6.17770000e+03 1.35808500e+06 2.19836671e+02]\n",
      " [1.83627000e+06 1.66800000e+03 1.83627000e+06 1.10088129e+03]\n",
      " [1.19549000e+06 1.28490000e+03 1.19549000e+06 9.30414818e+02]\n",
      " [9.41180500e+06 2.06100000e+03 9.41180500e+06 4.56662057e+03]]\n",
      "Kiểu dữ liệu của arr_data là: <class 'numpy.ndarray'>\n"
     ]
    }
   ],
   "source": [
    "arr_data = data.values # Lấy mảng dữ liệu gốc từ DataFrame\n",
    "print(arr_data) \n",
    "print('Kiểu dữ liệu của arr_data là:',type(arr_data))"
   ]
  },
  {
   "cell_type": "code",
   "execution_count": 11,
   "metadata": {},
   "outputs": [
    {
     "data": {
      "text/html": [
       "<div>\n",
       "<style scoped>\n",
       "    .dataframe tbody tr th:only-of-type {\n",
       "        vertical-align: middle;\n",
       "    }\n",
       "\n",
       "    .dataframe tbody tr th {\n",
       "        vertical-align: top;\n",
       "    }\n",
       "\n",
       "    .dataframe thead th {\n",
       "        text-align: right;\n",
       "    }\n",
       "</style>\n",
       "<table border=\"1\" class=\"dataframe\">\n",
       "  <thead>\n",
       "    <tr style=\"text-align: right;\">\n",
       "      <th></th>\n",
       "      <th>Hà Nội</th>\n",
       "      <th>Quảng Ninh</th>\n",
       "      <th>Nam Định</th>\n",
       "      <th>Đà Nẵng</th>\n",
       "      <th>TP.Hồ Chí Minh</th>\n",
       "    </tr>\n",
       "  </thead>\n",
       "  <tbody>\n",
       "    <tr>\n",
       "      <th>Dân số</th>\n",
       "      <td>8.330803e+06</td>\n",
       "      <td>1.358085e+06</td>\n",
       "      <td>1.836270e+06</td>\n",
       "      <td>1.195490e+06</td>\n",
       "      <td>9.411805e+06</td>\n",
       "    </tr>\n",
       "    <tr>\n",
       "      <th>Diện tích</th>\n",
       "      <td>3.358900e+03</td>\n",
       "      <td>6.177700e+03</td>\n",
       "      <td>1.668000e+03</td>\n",
       "      <td>1.284900e+03</td>\n",
       "      <td>2.061000e+03</td>\n",
       "    </tr>\n",
       "    <tr>\n",
       "      <th>population</th>\n",
       "      <td>8.330803e+06</td>\n",
       "      <td>1.358085e+06</td>\n",
       "      <td>1.836270e+06</td>\n",
       "      <td>1.195490e+06</td>\n",
       "      <td>9.411805e+06</td>\n",
       "    </tr>\n",
       "    <tr>\n",
       "      <th>Mật độ</th>\n",
       "      <td>2.480218e+03</td>\n",
       "      <td>2.198367e+02</td>\n",
       "      <td>1.100881e+03</td>\n",
       "      <td>9.304148e+02</td>\n",
       "      <td>4.566621e+03</td>\n",
       "    </tr>\n",
       "  </tbody>\n",
       "</table>\n",
       "</div>"
      ],
      "text/plain": [
       "                  Hà Nội    Quảng Ninh      Nam Định       Đà Nẵng  \\\n",
       "Dân số      8.330803e+06  1.358085e+06  1.836270e+06  1.195490e+06   \n",
       "Diện tích   3.358900e+03  6.177700e+03  1.668000e+03  1.284900e+03   \n",
       "population  8.330803e+06  1.358085e+06  1.836270e+06  1.195490e+06   \n",
       "Mật độ      2.480218e+03  2.198367e+02  1.100881e+03  9.304148e+02   \n",
       "\n",
       "            TP.Hồ Chí Minh  \n",
       "Dân số        9.411805e+06  \n",
       "Diện tích     2.061000e+03  \n",
       "population    9.411805e+06  \n",
       "Mật độ        4.566621e+03  "
      ]
     },
     "execution_count": 11,
     "metadata": {},
     "output_type": "execute_result"
    }
   ],
   "source": [
    "#### VD4.4.2.2\n",
    "data.T"
   ]
  },
  {
   "cell_type": "code",
   "execution_count": 12,
   "metadata": {},
   "outputs": [
    {
     "name": "stdout",
     "output_type": "stream",
     "text": [
      "Cách 1, sử dụng chuyển vị: [3358.9 6177.7 1668.  1284.9 2061. ]\n",
      "Cách 2, sử dụng chỉ mục (index): [3358.9 6177.7 1668.  1284.9 2061. ]\n"
     ]
    }
   ],
   "source": [
    "print(\"Cách 1, sử dụng chuyển vị:\", data.T.values[1])\n",
    "print(\"Cách 2, sử dụng chỉ mục (index):\", data['Diện tích'].values)"
   ]
  },
  {
   "cell_type": "code",
   "execution_count": 13,
   "metadata": {},
   "outputs": [
    {
     "name": "stdout",
     "output_type": "stream",
     "text": [
      "                 Dân số  Diện tích  population       Mật độ\n",
      "Hà Nội          8330803     3358.9     8330803  2480.217631\n",
      "Quảng Ninh      1358085     6177.7     1358085   219.836671\n",
      "Nam Định        1836270     1668.0     1836270  1100.881295\n",
      "Đà Nẵng         1195490     1284.9     1195490   930.414818\n",
      "TP.Hồ Chí Minh  9411805     2061.0     9411805  4566.620573\n",
      "\n",
      " Dữ liệu của Hà Nội:\n",
      " Dân số        8.330803e+06\n",
      "Diện tích     3.358900e+03\n",
      "population    8.330803e+06\n",
      "Mật độ        2.480218e+03\n",
      "Name: Hà Nội, dtype: float64\n",
      "\n",
      " Dữ liệu của Hà Nội, Quảng Ninh và Nam Định:\n",
      "              Dân số  Diện tích  population       Mật độ\n",
      "Hà Nội      8330803     3358.9     8330803  2480.217631\n",
      "Quảng Ninh  1358085     6177.7     1358085   219.836671\n",
      "Nam Định    1836270     1668.0     1836270  1100.881295\n",
      "\n",
      "Dữ liệu dân số, diện tích của Hà Nội, Quảng Ninh:\n",
      "              Dân số  Diện tích\n",
      "Hà Nội      8330803     3358.9\n",
      "Quảng Ninh  1358085     6177.7\n",
      "\n",
      " Mật độ dân số các Tỉnh/Thành phố:\n",
      " Hà Nội            2480.217631\n",
      "Quảng Ninh         219.836671\n",
      "Nam Định          1100.881295\n",
      "Đà Nẵng            930.414818\n",
      "TP.Hồ Chí Minh    4566.620573\n",
      "Name: Mật độ, dtype: float64\n"
     ]
    }
   ],
   "source": [
    "####vd4.4.2.3\n",
    "#Sử dụng loc \n",
    "print(data) \n",
    "#Lấy hàng đầu tiên \n",
    "print('\\n Dữ liệu của Hà Nội:\\n',data.loc['Hà Nội']) \n",
    "#Lấy dữ liệu 3 hàng đầu tiên\n",
    "print(\"\\n Dữ liệu của Hà Nội, Quảng Ninh và Nam Định:\\n\",data.loc[:'Nam Định']) \n",
    "#Dữ liệu của 2 hàng và 2 cột đầu tiên \n",
    "print(\"\\nDữ liệu dân số, diện tích của Hà Nội, Quảng Ninh:\\n\",data.loc[:'Quảng Ninh',:'Diện tích']) \n",
    "#Lấy dữ liệu của tất cả các hàng và các cột cuối cùng \n",
    "print(\"\\n Mật độ dân số các Tỉnh/Thành phố:\\n\",data.loc[:,'Mật độ']) "
   ]
  },
  {
   "cell_type": "code",
   "execution_count": 14,
   "metadata": {},
   "outputs": [
    {
     "name": "stdout",
     "output_type": "stream",
     "text": [
      "                 Dân số  Diện tích  population       Mật độ\n",
      "Hà Nội          8330803     3358.9     8330803  2480.217631\n",
      "Quảng Ninh      1358085     6177.7     1358085   219.836671\n",
      "Nam Định        1836270     1668.0     1836270  1100.881295\n",
      "Đà Nẵng         1195490     1284.9     1195490   930.414818\n",
      "TP.Hồ Chí Minh  9411805     2061.0     9411805  4566.620573\n",
      "\n",
      "Dữ liệu của thủ đô Hà Nội:\n",
      " Dân số        8.330803e+06\n",
      "Diện tích     3.358900e+03\n",
      "population    8.330803e+06\n",
      "Mật độ        2.480218e+03\n",
      "Name: Hà Nội, dtype: float64\n",
      "\n",
      "Dữ liệu của Hà Nội, Quảng Ninh và Nam Định:\n",
      "              Dân số  Diện tích  population       Mật độ\n",
      "Hà Nội      8330803     3358.9     8330803  2480.217631\n",
      "Quảng Ninh  1358085     6177.7     1358085   219.836671\n",
      "Nam Định    1836270     1668.0     1836270  1100.881295\n",
      "\n",
      "Dữ liệu dân số và diện tích của Hà Nội và Quảng Ninh:\n",
      "              Dân số  Diện tích\n",
      "Hà Nội      8330803     3358.9\n",
      "Quảng Ninh  1358085     6177.7\n",
      "Mật độ dân số của các tỉnh/thành phố:\n",
      " Hà Nội            2480.217631\n",
      "Quảng Ninh         219.836671\n",
      "Nam Định          1100.881295\n",
      "Đà Nẵng            930.414818\n",
      "TP.Hồ Chí Minh    4566.620573\n",
      "Name: Mật độ, dtype: float64\n"
     ]
    }
   ],
   "source": [
    "#sử dụng với iloc\n",
    "print(data) \n",
    "#Lấy hàng đầu tiên \n",
    "print(\"\\nDữ liệu của thủ đô Hà Nội:\\n\",data.iloc[0]) \n",
    "#Lấy dữ liệu 3 hàng đầu tiên\n",
    "print(\"\\nDữ liệu của Hà Nội, Quảng Ninh và Nam Định:\\n\",data.iloc[0:3]) \n",
    "#Lấy dữ liệu 2 hàng, 2 cột đầu tiên\n",
    "print(\"\\nDữ liệu dân số và diện tích của Hà Nội và Quảng Ninh:\\n\",data.iloc[:2,:2])\n",
    "#Lấy dữ liệu về mật độ dân số của các tỉnh còn lại\n",
    "print(\"Mật độ dân số của các tỉnh/thành phố:\\n\",data.iloc[:,-1]) "
   ]
  },
  {
   "cell_type": "markdown",
   "metadata": {},
   "source": [
    "#### VD4.4.2.4\n"
   ]
  },
  {
   "cell_type": "code",
   "execution_count": 17,
   "metadata": {},
   "outputs": [
    {
     "name": "stdout",
     "output_type": "stream",
     "text": [
      "\n",
      "#1.  Dữ liệu dân số và mật độ của Tỉnh/TP mà diện tích >2000km2: \n",
      "\n",
      "                 Dân số       Mật độ\n",
      "Hà Nội          8330803  2480.217631\n",
      "Quảng Ninh      1358085   219.836671\n",
      "TP.Hồ Chí Minh  9411805  4566.620573\n"
     ]
    }
   ],
   "source": [
    "#Lấy dữ liệu dân số và mật độ các tỉnh/TP có diện tích > 2000km2. \n",
    "print(\"\\n#1.  Dữ liệu dân số và mật độ của Tỉnh/TP mà diện tích >2000km2: \\n\")\n",
    "print(data.loc[data['Diện tích'] > 2000, ['Dân số', 'Mật độ']])"
   ]
  },
  {
   "cell_type": "code",
   "execution_count": 18,
   "metadata": {},
   "outputs": [
    {
     "name": "stdout",
     "output_type": "stream",
     "text": [
      "Diện tích các tỉnh/TP có mật độ < 1000 và dân số > 1 triệu:\n",
      "             Diện tích      Mật độ\n",
      "Quảng Ninh     6177.7  219.836671\n",
      "Đà Nẵng        1284.9  930.414818\n"
     ]
    }
   ],
   "source": [
    "#Lấy dữ liệu Tỉnh/TP có mật độ <1000 và dân số >1000000\n",
    "print(\"Diện tích các tỉnh/TP có mật độ < 1000 và dân số > 1 triệu:\\n\",data.loc[(data['Mật độ']<1000) & (data['Diện tích'] > 1000), ['Diện tích', 'Mật độ']]) \n"
   ]
  },
  {
   "cell_type": "markdown",
   "metadata": {},
   "source": [
    "#### Ví dụ 4.4.2.6"
   ]
  },
  {
   "cell_type": "code",
   "execution_count": 19,
   "metadata": {},
   "outputs": [
    {
     "name": "stdout",
     "output_type": "stream",
     "text": [
      "             Dân số  Diện tích  population       Mật độ\n",
      "Hà Nội      8330803     3358.9     8330803  2480.217631\n",
      "Quảng Ninh  1358085     6177.7     1358085   219.836671\n"
     ]
    }
   ],
   "source": [
    "#Sử dụng slicing\n",
    "print(data[0:2])"
   ]
  },
  {
   "cell_type": "code",
   "execution_count": 20,
   "metadata": {},
   "outputs": [
    {
     "name": "stdout",
     "output_type": "stream",
     "text": [
      "                 Dân số  Diện tích  population       Mật độ\n",
      "Hà Nội          8330803     3358.9     8330803  2480.217631\n",
      "Nam Định        1836270     1668.0     1836270  1100.881295\n",
      "TP.Hồ Chí Minh  9411805     2061.0     9411805  4566.620573\n"
     ]
    }
   ],
   "source": [
    "print(data[data['Mật độ']>1000])   #masking"
   ]
  }
 ],
 "metadata": {
  "kernelspec": {
   "display_name": "base",
   "language": "python",
   "name": "python3"
  },
  "language_info": {
   "codemirror_mode": {
    "name": "ipython",
    "version": 3
   },
   "file_extension": ".py",
   "mimetype": "text/x-python",
   "name": "python",
   "nbconvert_exporter": "python",
   "pygments_lexer": "ipython3",
   "version": "3.11.5"
  }
 },
 "nbformat": 4,
 "nbformat_minor": 2
}
