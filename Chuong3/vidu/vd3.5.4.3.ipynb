{
 "cells": [
  {
   "cell_type": "code",
   "execution_count": 1,
   "metadata": {},
   "outputs": [
    {
     "name": "stdout",
     "output_type": "stream",
     "text": [
      "số phần tử khác 0 theo mỗi hàng: [2 1 2]\n",
      "số phần tử khác 0 theo mỗi cột: [2 1 2]\n"
     ]
    }
   ],
   "source": [
    "import numpy as np\n",
    "arr = np.array([[1,0,3],\n",
    "                [0,5,0],\n",
    "                [7,0,9]])\n",
    "print(\"số phần tử khác 0 theo mỗi hàng:\", np.sum(arr !=0, axis=1))\n",
    "print(\"số phần tử khác 0 theo mỗi cột:\", np.sum(arr !=0, axis=0))"
   ]
  }
 ],
 "metadata": {
  "kernelspec": {
   "display_name": "base",
   "language": "python",
   "name": "python3"
  },
  "language_info": {
   "codemirror_mode": {
    "name": "ipython",
    "version": 3
   },
   "file_extension": ".py",
   "mimetype": "text/x-python",
   "name": "python",
   "nbconvert_exporter": "python",
   "pygments_lexer": "ipython3",
   "version": "3.11.5"
  }
 },
 "nbformat": 4,
 "nbformat_minor": 2
}
