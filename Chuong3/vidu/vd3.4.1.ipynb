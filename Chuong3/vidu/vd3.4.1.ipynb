{
 "cells": [
  {
   "cell_type": "code",
   "execution_count": 4,
   "metadata": {},
   "outputs": [
    {
     "name": "stdout",
     "output_type": "stream",
     "text": [
      "Tổng các phần tử mảng arr khi sử dụng vòng lặp: 4999999950000000\n",
      "Thời gian (giây) khi sử dụng vòng lặp: 10.485721349716187\n",
      "Tổng các phần tử mảng arr khi sử dụng hàm np.sum(): 4999999950000000\n",
      "Thời gian (giây) khi sử dụng np.sum(): 0.06528258323669434\n",
      "Sử dụng vòng lặp chậm hơn: ~ 160 lần\n"
     ]
    }
   ],
   "source": [
    "import numpy as np\n",
    "import time\n",
    "\n",
    "# Tạo một mảng NumPy với 100.000.000 phần tử\n",
    "arr = np.arange(100000000, dtype=np.int64)\n",
    "\n",
    "# Tính tổng các phần tử của mảng bằng vòng lặp\n",
    "start_time = time.time()\n",
    "\n",
    "total = np.int64(0)\n",
    "for num in arr:\n",
    "    total += num\n",
    "\n",
    "end_time = time.time()\n",
    "elapsed_time_loop = end_time - start_time\n",
    "\n",
    "print(\"Tổng các phần tử mảng arr khi sử dụng vòng lặp:\", total)\n",
    "print(\"Thời gian (giây) khi sử dụng vòng lặp:\", elapsed_time_loop) # Tính tổng các phần tử của mảng bằng np.sum()\n",
    "\n",
    "start_time = time.time()\n",
    "total = np.sum(arr)\n",
    "\n",
    "end_time = time.time()\n",
    "elapsed_time_npsum = end_time - start_time\n",
    "\n",
    "print(\"Tổng các phần tử mảng arr khi sử dụng hàm np.sum():\", total) \n",
    "print(\"Thời gian (giây) khi sử dụng np.sum():\", elapsed_time_npsum) \n",
    "\n",
    "num_times_faster = elapsed_time_loop / elapsed_time_npsum \n",
    "print(\"Sử dụng vòng lặp chậm hơn: ~\",int(num_times_faster),\"lần\") "
   ]
  }
 ],
 "metadata": {
  "kernelspec": {
   "display_name": "base",
   "language": "python",
   "name": "python3"
  },
  "language_info": {
   "codemirror_mode": {
    "name": "ipython",
    "version": 3
   },
   "file_extension": ".py",
   "mimetype": "text/x-python",
   "name": "python",
   "nbconvert_exporter": "python",
   "pygments_lexer": "ipython3",
   "version": "3.11.5"
  }
 },
 "nbformat": 4,
 "nbformat_minor": 2
}
