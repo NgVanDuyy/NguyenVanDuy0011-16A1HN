{
 "cells": [
  {
   "cell_type": "code",
   "execution_count": 1,
   "metadata": {},
   "outputs": [
    {
     "name": "stdout",
     "output_type": "stream",
     "text": [
      "All values in column 'age' updated to 99 in table 'mytable'.\n"
     ]
    }
   ],
   "source": [
    "import sqlite3\n",
    "\n",
    "def update_column(table_name, column_name, new_value):\n",
    "    # Kết nối đến cơ sở dữ liệu SQLite\n",
    "    conn = sqlite3.connect('mydatabase.db')\n",
    "\n",
    "    # Lấy đối tượng con trỏ\n",
    "    cursor = conn.cursor()\n",
    "\n",
    "    # Thực hiện truy vấn cập nhật\n",
    "    cursor.execute(f\"UPDATE {table_name} SET {column_name} = ?;\", (new_value,))\n",
    "\n",
    "    # Lưu thay đổi\n",
    "    conn.commit()\n",
    "\n",
    "    # In ra thông báo nếu cập nhật thành công\n",
    "    print(f\"All values in column '{column_name}' updated to {new_value} in table '{table_name}'.\")\n",
    "\n",
    "    # Đóng kết nối\n",
    "    conn.close()\n",
    "\n",
    "def main():\n",
    "    # Tên bảng cần cập nhật\n",
    "    table_name = 'mytable'\n",
    "\n",
    "    # Tên cột cần cập nhật\n",
    "    column_name = 'age'\n",
    "\n",
    "    # Giá trị mới cho cột\n",
    "    new_value = 99\n",
    "\n",
    "    # Cập nhật tất cả các giá trị của cột trong bảng\n",
    "    update_column(table_name, column_name, new_value)\n",
    "\n",
    "if __name__ == \"__main__\":\n",
    "    main()\n"
   ]
  }
 ],
 "metadata": {
  "kernelspec": {
   "display_name": "base",
   "language": "python",
   "name": "python3"
  },
  "language_info": {
   "codemirror_mode": {
    "name": "ipython",
    "version": 3
   },
   "file_extension": ".py",
   "mimetype": "text/x-python",
   "name": "python",
   "nbconvert_exporter": "python",
   "pygments_lexer": "ipython3",
   "version": "3.11.5"
  }
 },
 "nbformat": 4,
 "nbformat_minor": 2
}
