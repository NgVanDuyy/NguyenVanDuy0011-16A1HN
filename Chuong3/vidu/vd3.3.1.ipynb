{
 "cells": [
  {
   "cell_type": "code",
   "execution_count": 1,
   "metadata": {},
   "outputs": [
    {
     "name": "stdout",
     "output_type": "stream",
     "text": [
      "Số chiều của mảng là: 2\n",
      "Kích thước của mảng là: (2, 3)\n",
      "Tổng số phần tử trong mảng là: (2, 3)\n",
      "Kiểu dữ liệu của các phần tử trong mảng là: int32\n",
      "Kích thước theo (byte) của mỗi phần tử trong mảng là: 4\n",
      "Tổng kích thước theo (byte) của mảng là:  24\n"
     ]
    }
   ],
   "source": [
    "#Vd3.3.1 kiểm tra các thuộc tính của bảng\n",
    "import numpy as np\n",
    "arr=np.array([[1,2,3],[4,5,6]])\n",
    "print(\"Số chiều của mảng là:\",arr.ndim)\n",
    "print(\"Kích thước của mảng là:\",arr.shape)\n",
    "print(\"Tổng số phần tử trong mảng là:\", arr.shape)\n",
    "print(\"Kiểu dữ liệu của các phần tử trong mảng là:\", arr.dtype)\n",
    "print(\"Kích thước theo (byte) của mỗi phần tử trong mảng là:\", arr.itemsize)\n",
    "print(\"Tổng kích thước theo (byte) của mảng là: \", arr.nbytes)"
   ]
  }
 ],
 "metadata": {
  "kernelspec": {
   "display_name": "base",
   "language": "python",
   "name": "python3"
  },
  "language_info": {
   "codemirror_mode": {
    "name": "ipython",
    "version": 3
   },
   "file_extension": ".py",
   "mimetype": "text/x-python",
   "name": "python",
   "nbconvert_exporter": "python",
   "pygments_lexer": "ipython3",
   "version": "3.11.5"
  }
 },
 "nbformat": 4,
 "nbformat_minor": 2
}
