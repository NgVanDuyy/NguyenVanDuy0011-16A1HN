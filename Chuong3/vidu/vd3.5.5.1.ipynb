{
 "cells": [
  {
   "cell_type": "code",
   "execution_count": 1,
   "metadata": {},
   "outputs": [
    {
     "data": {
      "text/plain": [
       "masked_array(data=[1, 2, 3, 4, 5, 6, --, --, --],\n",
       "             mask=[False, False, False, False, False, False,  True,  True,\n",
       "                    True],\n",
       "       fill_value=999999)"
      ]
     },
     "execution_count": 1,
     "metadata": {},
     "output_type": "execute_result"
    }
   ],
   "source": [
    "import numpy as np\n",
    "import numpy.ma as ma\n",
    "\n",
    "#Tạo 1 mảng numpy bình thường \n",
    "arr = np.array([1,2,3,4,5,6,7,8,9])\n",
    "#Tạo 1 mảng mask cho các giá trị không hợp lệ \n",
    "mask = arr >6 \n",
    "masked_arr=np.ma.masked_array(arr,mask)\n",
    "\n",
    "masked_arr"
   ]
  },
  {
   "cell_type": "code",
   "execution_count": null,
   "metadata": {},
   "outputs": [],
   "source": []
  }
 ],
 "metadata": {
  "kernelspec": {
   "display_name": "base",
   "language": "python",
   "name": "python3"
  },
  "language_info": {
   "codemirror_mode": {
    "name": "ipython",
    "version": 3
   },
   "file_extension": ".py",
   "mimetype": "text/x-python",
   "name": "python",
   "nbconvert_exporter": "python",
   "pygments_lexer": "ipython3",
   "version": "3.11.5"
  }
 },
 "nbformat": 4,
 "nbformat_minor": 2
}
