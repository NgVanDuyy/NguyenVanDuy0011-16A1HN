{
 "cells": [
  {
   "cell_type": "code",
   "execution_count": 9,
   "metadata": {},
   "outputs": [
    {
     "data": {
      "text/html": [
       "<div>\n",
       "<style scoped>\n",
       "    .dataframe tbody tr th:only-of-type {\n",
       "        vertical-align: middle;\n",
       "    }\n",
       "\n",
       "    .dataframe tbody tr th {\n",
       "        vertical-align: top;\n",
       "    }\n",
       "\n",
       "    .dataframe thead th {\n",
       "        text-align: right;\n",
       "    }\n",
       "</style>\n",
       "<table border=\"1\" class=\"dataframe\">\n",
       "  <thead>\n",
       "    <tr style=\"text-align: right;\">\n",
       "      <th></th>\n",
       "      <th>key</th>\n",
       "      <th>data</th>\n",
       "    </tr>\n",
       "  </thead>\n",
       "  <tbody>\n",
       "    <tr>\n",
       "      <th>0</th>\n",
       "      <td>A</td>\n",
       "      <td>0</td>\n",
       "    </tr>\n",
       "    <tr>\n",
       "      <th>1</th>\n",
       "      <td>B</td>\n",
       "      <td>1</td>\n",
       "    </tr>\n",
       "    <tr>\n",
       "      <th>2</th>\n",
       "      <td>C</td>\n",
       "      <td>2</td>\n",
       "    </tr>\n",
       "    <tr>\n",
       "      <th>3</th>\n",
       "      <td>A</td>\n",
       "      <td>3</td>\n",
       "    </tr>\n",
       "    <tr>\n",
       "      <th>4</th>\n",
       "      <td>B</td>\n",
       "      <td>4</td>\n",
       "    </tr>\n",
       "    <tr>\n",
       "      <th>5</th>\n",
       "      <td>C</td>\n",
       "      <td>5</td>\n",
       "    </tr>\n",
       "  </tbody>\n",
       "</table>\n",
       "</div>"
      ],
      "text/plain": [
       "  key  data\n",
       "0   A     0\n",
       "1   B     1\n",
       "2   C     2\n",
       "3   A     3\n",
       "4   B     4\n",
       "5   C     5"
      ]
     },
     "execution_count": 9,
     "metadata": {},
     "output_type": "execute_result"
    }
   ],
   "source": [
    "import pandas as pd\n",
    "import numpy as np\n",
    "df=pd.DataFrame(\n",
    "    {\n",
    "        'key':['A','B','C','A','B','C'],\n",
    "        'data':range(6)\n",
    "    },\n",
    "    columns=['key','data']\n",
    ")\n",
    "df"
   ]
  },
  {
   "cell_type": "code",
   "execution_count": 10,
   "metadata": {},
   "outputs": [
    {
     "data": {
      "text/plain": [
       "<pandas.core.groupby.generic.DataFrameGroupBy object at 0x000001E154230C10>"
      ]
     },
     "execution_count": 10,
     "metadata": {},
     "output_type": "execute_result"
    }
   ],
   "source": [
    "df_group=df.groupby('key')\n",
    "df_group"
   ]
  },
  {
   "cell_type": "code",
   "execution_count": 11,
   "metadata": {},
   "outputs": [
    {
     "name": "stdout",
     "output_type": "stream",
     "text": [
      "     data\n",
      "key      \n",
      "A       3\n",
      "B       5\n",
      "C       7\n"
     ]
    }
   ],
   "source": [
    "print(df_group.sum())"
   ]
  },
  {
   "cell_type": "markdown",
   "metadata": {},
   "source": [
    "#### vd4.8.2.2\n"
   ]
  },
  {
   "cell_type": "code",
   "execution_count": 12,
   "metadata": {},
   "outputs": [
    {
     "data": {
      "text/html": [
       "<div>\n",
       "<style scoped>\n",
       "    .dataframe tbody tr th:only-of-type {\n",
       "        vertical-align: middle;\n",
       "    }\n",
       "\n",
       "    .dataframe tbody tr th {\n",
       "        vertical-align: top;\n",
       "    }\n",
       "\n",
       "    .dataframe thead th {\n",
       "        text-align: right;\n",
       "    }\n",
       "</style>\n",
       "<table border=\"1\" class=\"dataframe\">\n",
       "  <thead>\n",
       "    <tr style=\"text-align: right;\">\n",
       "      <th></th>\n",
       "      <th>Tên hs</th>\n",
       "      <th>Môn</th>\n",
       "      <th>Điểm</th>\n",
       "    </tr>\n",
       "  </thead>\n",
       "  <tbody>\n",
       "    <tr>\n",
       "      <th>0</th>\n",
       "      <td>Bình</td>\n",
       "      <td>Toán</td>\n",
       "      <td>8</td>\n",
       "    </tr>\n",
       "    <tr>\n",
       "      <th>1</th>\n",
       "      <td>Hoa</td>\n",
       "      <td>Lý</td>\n",
       "      <td>9</td>\n",
       "    </tr>\n",
       "    <tr>\n",
       "      <th>2</th>\n",
       "      <td>Minh</td>\n",
       "      <td>Toán</td>\n",
       "      <td>7</td>\n",
       "    </tr>\n",
       "    <tr>\n",
       "      <th>3</th>\n",
       "      <td>Lan</td>\n",
       "      <td>Hóa</td>\n",
       "      <td>6</td>\n",
       "    </tr>\n",
       "    <tr>\n",
       "      <th>4</th>\n",
       "      <td>Vân</td>\n",
       "      <td>Lý</td>\n",
       "      <td>8</td>\n",
       "    </tr>\n",
       "  </tbody>\n",
       "</table>\n",
       "</div>"
      ],
      "text/plain": [
       "  Tên hs   Môn  Điểm\n",
       "0   Bình  Toán     8\n",
       "1    Hoa    Lý     9\n",
       "2   Minh  Toán     7\n",
       "3    Lan   Hóa     6\n",
       "4    Vân    Lý     8"
      ]
     },
     "execution_count": 12,
     "metadata": {},
     "output_type": "execute_result"
    }
   ],
   "source": [
    "data = {'Tên hs':['Bình', 'Hoa', 'Minh', 'Lan', 'Vân'],\n",
    "        'Môn':['Toán', 'Lý', 'Toán', 'Hóa', 'Lý'],\n",
    "        'Điểm':[8, 9, 7, 6, 8]\n",
    "}\n",
    "\n",
    "df = pd.DataFrame(data)\n",
    "df"
   ]
  },
  {
   "cell_type": "code",
   "execution_count": 13,
   "metadata": {},
   "outputs": [
    {
     "name": "stdout",
     "output_type": "stream",
     "text": [
      "     data\n",
      "key      \n",
      "A       3\n",
      "B       5\n",
      "C       7\n"
     ]
    }
   ],
   "source": [
    "print(df_group.sum()) "
   ]
  },
  {
   "cell_type": "markdown",
   "metadata": {},
   "source": [
    "#### vd4.8.2.3\n"
   ]
  },
  {
   "cell_type": "code",
   "execution_count": 14,
   "metadata": {},
   "outputs": [
    {
     "name": "stdout",
     "output_type": "stream",
     "text": [
      "df: \n",
      "   key  giatri_1  giatri_2\n",
      "0   A        74         9\n",
      "1   B        16         5\n",
      "2   C        18         9\n",
      "3   A        43         7\n",
      "4   B        88         8\n",
      "5   C        39         0\n",
      "\n",
      "key:  A\n",
      "value: \n",
      "   key  giatri_1  giatri_2\n",
      "0   A        74         9\n",
      "3   A        43         7\n",
      "\n",
      "key:  B\n",
      "value: \n",
      "   key  giatri_1  giatri_2\n",
      "1   B        16         5\n",
      "4   B        88         8\n",
      "\n",
      "key:  C\n",
      "value: \n",
      "   key  giatri_1  giatri_2\n",
      "2   C        18         9\n",
      "5   C        39         0\n"
     ]
    }
   ],
   "source": [
    "df = pd.DataFrame(\n",
    "    {\n",
    "        'key':['A','B','C','A','B','C'],\n",
    "        'giatri_1':np.random.randint(10,100,6),  \n",
    "        'giatri_2':np.random.randint(0,10,6)  \n",
    "    },\n",
    "    columns=['key','giatri_1','giatri_2']\n",
    ")\n",
    "print(\"df: \\n\",df)\n",
    "\n",
    "for key, giatri in df.groupby('key'):\n",
    "    print(\"\\nkey: \",key)\n",
    "    print(\"value: \\n\",giatri)"
   ]
  },
  {
   "cell_type": "markdown",
   "metadata": {},
   "source": [
    "#### vd4.8.2.4"
   ]
  },
  {
   "cell_type": "code",
   "execution_count": 15,
   "metadata": {},
   "outputs": [
    {
     "name": "stdout",
     "output_type": "stream",
     "text": [
      "  key  giatri_1  giatri_2\n",
      "0   A        74         9\n",
      "3   A        43         7\n"
     ]
    }
   ],
   "source": [
    "print(df.groupby('key').get_group('A'))"
   ]
  },
  {
   "cell_type": "code",
   "execution_count": 16,
   "metadata": {},
   "outputs": [
    {
     "name": "stdout",
     "output_type": "stream",
     "text": [
      "  key  giatri_1  giatri_2\n",
      "1   B        16         5\n",
      "4   B        88         8\n"
     ]
    }
   ],
   "source": [
    "print(df.groupby('key').get_group('B'))"
   ]
  },
  {
   "cell_type": "code",
   "execution_count": 17,
   "metadata": {},
   "outputs": [
    {
     "name": "stdout",
     "output_type": "stream",
     "text": [
      "  key  giatri_1  giatri_2\n",
      "2   C        18         9\n",
      "5   C        39         0\n"
     ]
    }
   ],
   "source": [
    "print(df.groupby('key').get_group('C'))"
   ]
  },
  {
   "cell_type": "markdown",
   "metadata": {},
   "source": [
    "#### vd4.8.2.5"
   ]
  },
  {
   "cell_type": "code",
   "execution_count": 18,
   "metadata": {},
   "outputs": [
    {
     "data": {
      "text/html": [
       "<div>\n",
       "<style scoped>\n",
       "    .dataframe tbody tr th:only-of-type {\n",
       "        vertical-align: middle;\n",
       "    }\n",
       "\n",
       "    .dataframe tbody tr th {\n",
       "        vertical-align: top;\n",
       "    }\n",
       "\n",
       "    .dataframe thead tr th {\n",
       "        text-align: left;\n",
       "    }\n",
       "\n",
       "    .dataframe thead tr:last-of-type th {\n",
       "        text-align: right;\n",
       "    }\n",
       "</style>\n",
       "<table border=\"1\" class=\"dataframe\">\n",
       "  <thead>\n",
       "    <tr>\n",
       "      <th></th>\n",
       "      <th colspan=\"2\" halign=\"left\">giatri_1</th>\n",
       "    </tr>\n",
       "    <tr>\n",
       "      <th></th>\n",
       "      <th>sum</th>\n",
       "      <th>mean</th>\n",
       "    </tr>\n",
       "    <tr>\n",
       "      <th>key</th>\n",
       "      <th></th>\n",
       "      <th></th>\n",
       "    </tr>\n",
       "  </thead>\n",
       "  <tbody>\n",
       "    <tr>\n",
       "      <th>A</th>\n",
       "      <td>117</td>\n",
       "      <td>58.5</td>\n",
       "    </tr>\n",
       "    <tr>\n",
       "      <th>B</th>\n",
       "      <td>104</td>\n",
       "      <td>52.0</td>\n",
       "    </tr>\n",
       "    <tr>\n",
       "      <th>C</th>\n",
       "      <td>57</td>\n",
       "      <td>28.5</td>\n",
       "    </tr>\n",
       "  </tbody>\n",
       "</table>\n",
       "</div>"
      ],
      "text/plain": [
       "    giatri_1      \n",
       "         sum  mean\n",
       "key               \n",
       "A        117  58.5\n",
       "B        104  52.0\n",
       "C         57  28.5"
      ]
     },
     "execution_count": 18,
     "metadata": {},
     "output_type": "execute_result"
    }
   ],
   "source": [
    "grouped = df.groupby('key')\n",
    "result = grouped.aggregate({'giatri_1':['sum','mean']})\n",
    "result"
   ]
  },
  {
   "cell_type": "markdown",
   "metadata": {},
   "source": [
    "#### vd4.8.2.6"
   ]
  },
  {
   "cell_type": "code",
   "execution_count": 19,
   "metadata": {},
   "outputs": [
    {
     "data": {
      "text/html": [
       "<div>\n",
       "<style scoped>\n",
       "    .dataframe tbody tr th:only-of-type {\n",
       "        vertical-align: middle;\n",
       "    }\n",
       "\n",
       "    .dataframe tbody tr th {\n",
       "        vertical-align: top;\n",
       "    }\n",
       "\n",
       "    .dataframe thead th {\n",
       "        text-align: right;\n",
       "    }\n",
       "</style>\n",
       "<table border=\"1\" class=\"dataframe\">\n",
       "  <thead>\n",
       "    <tr style=\"text-align: right;\">\n",
       "      <th></th>\n",
       "      <th>giatri_1</th>\n",
       "      <th>giatri_2</th>\n",
       "    </tr>\n",
       "    <tr>\n",
       "      <th>key</th>\n",
       "      <th></th>\n",
       "      <th></th>\n",
       "    </tr>\n",
       "  </thead>\n",
       "  <tbody>\n",
       "    <tr>\n",
       "      <th>A</th>\n",
       "      <td>117</td>\n",
       "      <td>8.0</td>\n",
       "    </tr>\n",
       "    <tr>\n",
       "      <th>B</th>\n",
       "      <td>104</td>\n",
       "      <td>6.5</td>\n",
       "    </tr>\n",
       "    <tr>\n",
       "      <th>C</th>\n",
       "      <td>57</td>\n",
       "      <td>4.5</td>\n",
       "    </tr>\n",
       "  </tbody>\n",
       "</table>\n",
       "</div>"
      ],
      "text/plain": [
       "     giatri_1  giatri_2\n",
       "key                    \n",
       "A         117       8.0\n",
       "B         104       6.5\n",
       "C          57       4.5"
      ]
     },
     "execution_count": 19,
     "metadata": {},
     "output_type": "execute_result"
    }
   ],
   "source": [
    "groupped = df.groupby('key')\n",
    "result = grouped.agg(\n",
    "    {\n",
    "        'giatri_1':sum, 'giatri_2':lambda x:x.mean()  \n",
    "    })\n",
    "result"
   ]
  },
  {
   "cell_type": "markdown",
   "metadata": {},
   "source": [
    "#### VD4.8.2.7"
   ]
  },
  {
   "cell_type": "code",
   "execution_count": 23,
   "metadata": {},
   "outputs": [
    {
     "data": {
      "text/plain": [
       "0    0.707107\n",
       "1   -0.707107\n",
       "2   -0.707107\n",
       "3   -0.707107\n",
       "4    0.707107\n",
       "5    0.707107\n",
       "Name: giatri_1, dtype: float64"
      ]
     },
     "execution_count": 23,
     "metadata": {},
     "output_type": "execute_result"
    }
   ],
   "source": [
    "grouped = df.groupby('key')\n",
    "normalized = (df['giatri_1'] - grouped['giatri_1'].transform('mean')) \\\n",
    "            / grouped['giatri_1'].transform('std')\n",
    "normalized"
   ]
  },
  {
   "cell_type": "markdown",
   "metadata": {},
   "source": [
    "#### vd4.8.2.8\n"
   ]
  },
  {
   "cell_type": "code",
   "execution_count": 24,
   "metadata": {},
   "outputs": [
    {
     "name": "stdout",
     "output_type": "stream",
     "text": [
      "filtered: \n",
      "   key  giatri_1  giatri_2\n",
      "0   A        74         9\n",
      "1   B        16         5\n",
      "3   A        43         7\n",
      "4   B        88         8\n"
     ]
    }
   ],
   "source": [
    "# Lọc các nhóm có giá trị 2 trung bình lớn hơn 5\n",
    "filtered = grouped.filter(lambda x: x['giatri_2'].mean() > 5) \n",
    "# In nội dung của DataFrame 'filtered'\n",
    "print(\"filtered: \\n\", filtered) "
   ]
  },
  {
   "cell_type": "markdown",
   "metadata": {},
   "source": [
    "#### vd4.8.2.9"
   ]
  },
  {
   "cell_type": "code",
   "execution_count": 26,
   "metadata": {},
   "outputs": [
    {
     "name": "stdout",
     "output_type": "stream",
     "text": [
      "Result: \n",
      " key\n",
      "A     3\n",
      "B     7\n",
      "C    11\n",
      "Name: value, dtype: int64\n"
     ]
    }
   ],
   "source": [
    "# DataFrame gốc\n",
    "df = pd.DataFrame({'key': ['A','A','B','B', 'C', 'C'],  \n",
    "                   'value': [1, 2, 3, 4, 5, 6]}) \n",
    "\n",
    "# Gom nhóm dữ liệu theo cột 'key'\n",
    "grouped = df.groupby('key')\n",
    "\n",
    "# Áp dụng hàm sum() lên cột 'value' của mỗi nhóm\n",
    "result = grouped['value'].apply(sum)\n",
    "\n",
    "#In kết quả\n",
    "print(\"Result: \\n\", result) "
   ]
  },
  {
   "cell_type": "markdown",
   "metadata": {},
   "source": [
    "#### vd4.8 .2.10\n"
   ]
  },
  {
   "cell_type": "code",
   "execution_count": 27,
   "metadata": {},
   "outputs": [
    {
     "name": "stdout",
     "output_type": "stream",
     "text": [
      "Result2: \n",
      " key       \n",
      "A    count    2.000000\n",
      "     mean     1.500000\n",
      "     std      0.707107\n",
      "     min      1.000000\n",
      "     25%      1.250000\n",
      "     50%      1.500000\n",
      "     75%      1.750000\n",
      "     max      2.000000\n",
      "B    count    2.000000\n",
      "     mean     3.500000\n",
      "     std      0.707107\n",
      "     min      3.000000\n",
      "     25%      3.250000\n",
      "     50%      3.500000\n",
      "     75%      3.750000\n",
      "     max      4.000000\n",
      "C    count    2.000000\n",
      "     mean     5.500000\n",
      "     std      0.707107\n",
      "     min      5.000000\n",
      "     25%      5.250000\n",
      "     50%      5.500000\n",
      "     75%      5.750000\n",
      "     max      6.000000\n",
      "Name: value, dtype: float64\n"
     ]
    }
   ],
   "source": [
    "# Áp dụng hàm describe() lên cột 'value' của mỗi nhóm'\n",
    "result2 = grouped['value'].apply(lambda x: x.describe()) \n",
    "# In kết quả\n",
    "print(\"Result2: \\n\", result2) "
   ]
  }
 ],
 "metadata": {
  "kernelspec": {
   "display_name": "base",
   "language": "python",
   "name": "python3"
  },
  "language_info": {
   "codemirror_mode": {
    "name": "ipython",
    "version": 3
   },
   "file_extension": ".py",
   "mimetype": "text/x-python",
   "name": "python",
   "nbconvert_exporter": "python",
   "pygments_lexer": "ipython3",
   "version": "3.11.5"
  }
 },
 "nbformat": 4,
 "nbformat_minor": 2
}
