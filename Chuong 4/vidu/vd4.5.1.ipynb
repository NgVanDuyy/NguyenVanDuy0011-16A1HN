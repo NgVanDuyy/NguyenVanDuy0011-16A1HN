{
 "cells": [
  {
   "cell_type": "code",
   "execution_count": 1,
   "metadata": {},
   "outputs": [
    {
     "name": "stdout",
     "output_type": "stream",
     "text": [
      "Series:\n",
      " 0    8\n",
      "1    8\n",
      "2    3\n",
      "3    7\n",
      "dtype: int32\n",
      "DataFrame:\n",
      "    A  B  C  D\n",
      "0  7  0  4  2\n",
      "1  5  2  2  2\n",
      "2  1  0  8  4\n"
     ]
    }
   ],
   "source": [
    "import pandas as pd\n",
    "import numpy as np \n",
    "\n",
    "rng=np.random.RandomState(100) #Tạo một mảng NumPy ngẫu nhiên cố định\n",
    "arr1=rng.randint(0,10,4) #mảng NumPy 1 chiều 4 số ngẫu nhiên từ 0->10 \n",
    "arr2=rng.randint(0,10,(3,4)) #mảng 2 chiều 3x4 các số ngẫu nhiên từ 0->10, k lấy 10\n",
    "sr=pd.Series(arr1) #Tạo một Series Pandax từ mảng Numpy arr1 \n",
    "\n",
    "df=pd.DataFrame(arr2,columns=['A','B','C','D']) #Tạo DataFrame từ arr2\n",
    "print(\"Series:\\n\",sr)\n",
    "print(\"DataFrame:\\n\",df)"
   ]
  },
  {
   "cell_type": "markdown",
   "metadata": {},
   "source": [
    "#### ví dụ 4.5.1.2"
   ]
  },
  {
   "cell_type": "code",
   "execution_count": 2,
   "metadata": {},
   "outputs": [
    {
     "name": "stdout",
     "output_type": "stream",
     "text": [
      "Top 5 tỉnh/tp đông dân nhất Việt Nam 2023:\n",
      " TP.Hồ Chí Minh    9411805\n",
      "Hà Nội            8330830\n",
      "Thanh Hóa         3720000\n",
      "Nghệ An           3410000\n",
      "Đồng Nai          3097107\n",
      "dtype: int64\n",
      "Top 5 tỉnh/tp diện tích lớn nhất Việt Nam 2023:\n",
      " Nghệ An      16493.0\n",
      "Gia Lai      15536.9\n",
      "Sơn La       14174.4\n",
      "Đăk Lăk      13030.5\n",
      "Thanh Hóa    11132.2\n",
      "dtype: float64\n"
     ]
    }
   ],
   "source": [
    "#Số liệu top 5 dân số tỉnh thành Việt Nam\n",
    "population = pd.Series({'TP.Hồ Chí Minh':9411805,  \n",
    "                        'Hà Nội':8330830,\n",
    "                        'Thanh Hóa':3720000,\n",
    "                        'Nghệ An':3410000,\n",
    "                        'Đồng Nai':3097107})\n",
    "#Số liệu về top 5 diện tích tỉnh/thành Việt Nam\n",
    "area=pd.Series({'Nghệ An':16493,\n",
    "                'Gia Lai':15536.9,\n",
    "                'Sơn La':14174.4,\n",
    "                'Đăk Lăk':13030.5,\n",
    "                'Thanh Hóa':11132.2})\n",
    "print(\"Top 5 tỉnh/tp đông dân nhất Việt Nam 2023:\\n\",population) \n",
    "print(\"Top 5 tỉnh/tp diện tích lớn nhất Việt Nam 2023:\\n\",area) "
   ]
  },
  {
   "cell_type": "code",
   "execution_count": 3,
   "metadata": {},
   "outputs": [
    {
     "name": "stdout",
     "output_type": "stream",
     "text": [
      "Mật độ dân số tỉnh/thành :\n",
      " Gia Lai                NaN\n",
      "Hà Nội                 NaN\n",
      "Nghệ An           0.004837\n",
      "Sơn La                 NaN\n",
      "TP.Hồ Chí Minh         NaN\n",
      "Thanh Hóa         0.002993\n",
      "Đăk Lăk                NaN\n",
      "Đồng Nai               NaN\n",
      "dtype: float64\n"
     ]
    }
   ],
   "source": [
    "#Tính mật độ dân số từ 2 Series are và population \n",
    "density = area/population\n",
    "print(\"Mật độ dân số tỉnh/thành :\\n\", density) "
   ]
  }
 ],
 "metadata": {
  "kernelspec": {
   "display_name": "base",
   "language": "python",
   "name": "python3"
  },
  "language_info": {
   "codemirror_mode": {
    "name": "ipython",
    "version": 3
   },
   "file_extension": ".py",
   "mimetype": "text/x-python",
   "name": "python",
   "nbconvert_exporter": "python",
   "pygments_lexer": "ipython3",
   "version": "3.11.5"
  }
 },
 "nbformat": 4,
 "nbformat_minor": 2
}
