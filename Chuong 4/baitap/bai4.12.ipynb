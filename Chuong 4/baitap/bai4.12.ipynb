{
 "cells": [
  {
   "cell_type": "code",
   "execution_count": 1,
   "metadata": {},
   "outputs": [
    {
     "name": "stdout",
     "output_type": "stream",
     "text": [
      "Xếp chồng theo chiều dọc:\n",
      "0    0\n",
      "1    1\n",
      "2    2\n",
      "3    3\n",
      "4    4\n",
      "5    a\n",
      "6    b\n",
      "7    c\n",
      "8    d\n",
      "9    e\n",
      "dtype: object\n",
      "\n",
      "Xếp chồng theo chiều ngang:\n",
      "   Series 1 Series 2\n",
      "0         0        a\n",
      "1         1        b\n",
      "2         2        c\n",
      "3         3        d\n",
      "4         4        e\n"
     ]
    }
   ],
   "source": [
    "import pandas as pd\n",
    "\n",
    "# Tạo hai Series\n",
    "ser1 = pd.Series(range(5))\n",
    "ser2 = pd.Series(list('abcde'))\n",
    "\n",
    "# Xếp chồng theo chiều dọc (axis=0)\n",
    "df_vertical = pd.concat([ser1, ser2], axis=0, ignore_index=True)\n",
    "\n",
    "# Xếp chồng theo chiều ngang (axis=1)\n",
    "df_horizontal = pd.concat([ser1, ser2], axis=1, keys=['Series 1', 'Series 2'])\n",
    "\n",
    "# Hiển thị kết quả\n",
    "print(\"Xếp chồng theo chiều dọc:\")\n",
    "print(df_vertical)\n",
    "\n",
    "print(\"\\nXếp chồng theo chiều ngang:\")\n",
    "print(df_horizontal)\n"
   ]
  }
 ],
 "metadata": {
  "kernelspec": {
   "display_name": "base",
   "language": "python",
   "name": "python3"
  },
  "language_info": {
   "codemirror_mode": {
    "name": "ipython",
    "version": 3
   },
   "file_extension": ".py",
   "mimetype": "text/x-python",
   "name": "python",
   "nbconvert_exporter": "python",
   "pygments_lexer": "ipython3",
   "version": "3.11.5"
  }
 },
 "nbformat": 4,
 "nbformat_minor": 2
}
