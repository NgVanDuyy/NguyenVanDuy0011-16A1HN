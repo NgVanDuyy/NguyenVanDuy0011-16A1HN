{
 "cells": [
  {
   "cell_type": "code",
   "execution_count": 13,
   "metadata": {},
   "outputs": [
    {
     "data": {
      "text/plain": [
       "(Hà Nội, 2015)         7216000\n",
       "(Hà Nội, 2020)         8246540\n",
       "(Nam Định, 2015)       1850600\n",
       "(Nam Định, 2020)       1780330\n",
       "(Thanh Hóa, 2015)      3514200\n",
       "(Thanh Hóa, 2020)      3664940\n",
       "(Đà Nẵng, 2015)        1028800\n",
       "(Thanh Hóa, 2020)      1169480\n",
       "(Hồ Chí Minh, 2015)    8146300\n",
       "(Hồ Chí Minh, 2020)    9227600\n",
       "dtype: int64"
      ]
     },
     "execution_count": 13,
     "metadata": {},
     "output_type": "execute_result"
    }
   ],
   "source": [
    "import pandas as pd\n",
    "import numpy as np\n",
    "index=[('Hà Nội',2015),('Hà Nội',2020),\n",
    "       ('Nam Định',2015),('Nam Định',2020),\n",
    "       ('Thanh Hóa',2015),('Thanh Hóa',2020),\n",
    "       ('Đà Nẵng',2015),('Thanh Hóa',2020),\n",
    "       ('Hồ Chí Minh',2015),('Hồ Chí Minh',2020)]\n",
    "data=[7216000 , 8246540,\n",
    "      1850600 , 1780330,\n",
    "      3514200 , 3664940,\n",
    "      1028800 , 1169480,\n",
    "      8146300 , 9227600]\n",
    "vn_pop = pd.Series(data, index=index)\n",
    "vn_pop"
   ]
  },
  {
   "cell_type": "code",
   "execution_count": 2,
   "metadata": {},
   "outputs": [
    {
     "data": {
      "text/plain": [
       "(Hà Nội, 2015)      7216000\n",
       "(Hà Nội, 2020)      8246540\n",
       "(Nam Định, 2015)    1850600\n",
       "dtype: int64"
      ]
     },
     "execution_count": 2,
     "metadata": {},
     "output_type": "execute_result"
    }
   ],
   "source": [
    "vn_pop[('Hà Nội',2015):('Nam Định',2015)]"
   ]
  },
  {
   "cell_type": "markdown",
   "metadata": {},
   "source": [
    "#### cách 1 : dùng vòng lặp\n"
   ]
  },
  {
   "cell_type": "code",
   "execution_count": 3,
   "metadata": {},
   "outputs": [
    {
     "data": {
      "text/plain": [
       "(Hà Nội, 2020)         8246540\n",
       "(Nam Định, 2020)       1780330\n",
       "(Thanh Hóa, 2020)      3664940\n",
       "(Thanh Hóa, 2020)      1169480\n",
       "(Thanh Hóa, 2020)      3664940\n",
       "(Thanh Hóa, 2020)      1169480\n",
       "(Hồ Chí Minh, 2020)    9227600\n",
       "dtype: int64"
      ]
     },
     "execution_count": 3,
     "metadata": {},
     "output_type": "execute_result"
    }
   ],
   "source": [
    "#Sử dụng vòng lặp để lấy số liệu dân số các tỉnh thành năm 2020\n",
    "vn_pop[[i for i in vn_pop.index if i[1]==2020]]"
   ]
  },
  {
   "cell_type": "markdown",
   "metadata": {},
   "source": [
    "#### vd4.6.1.4"
   ]
  },
  {
   "cell_type": "code",
   "execution_count": 4,
   "metadata": {},
   "outputs": [
    {
     "data": {
      "text/plain": [
       "MultiIndex([(     'Hà Nội', 2015),\n",
       "            (     'Hà Nội', 2020),\n",
       "            (   'Nam Định', 2015),\n",
       "            (   'Nam Định', 2020),\n",
       "            (  'Thanh Hóa', 2015),\n",
       "            (  'Thanh Hóa', 2020),\n",
       "            (    'Đà Nẵng', 2015),\n",
       "            (  'Thanh Hóa', 2020),\n",
       "            ('Hồ Chí Minh', 2015),\n",
       "            ('Hồ Chí Minh', 2020)],\n",
       "           names=['Tỉnh/TP', 'Năm'])"
      ]
     },
     "execution_count": 4,
     "metadata": {},
     "output_type": "execute_result"
    }
   ],
   "source": [
    "idx=pd.MultiIndex.from_tuples(index, names=['Tỉnh/TP','Năm'])\n",
    "idx"
   ]
  },
  {
   "cell_type": "markdown",
   "metadata": {},
   "source": [
    "#### vd4.6.1.5"
   ]
  },
  {
   "cell_type": "code",
   "execution_count": 5,
   "metadata": {},
   "outputs": [
    {
     "data": {
      "text/plain": [
       "Tỉnh/TP      Năm \n",
       "Hà Nội       2015    7216000\n",
       "             2020    8246540\n",
       "Nam Định     2015    1850600\n",
       "             2020    1780330\n",
       "Thanh Hóa    2015    3514200\n",
       "             2020    3664940\n",
       "Đà Nẵng      2015    1028800\n",
       "Thanh Hóa    2020    1169480\n",
       "Hồ Chí Minh  2015    8146300\n",
       "             2020    9227600\n",
       "dtype: int64"
      ]
     },
     "execution_count": 5,
     "metadata": {},
     "output_type": "execute_result"
    }
   ],
   "source": [
    "vn_pop = vn_pop.reindex(idx)\n",
    "vn_pop"
   ]
  },
  {
   "cell_type": "markdown",
   "metadata": {},
   "source": [
    "#### vd4.6.1.6"
   ]
  },
  {
   "cell_type": "code",
   "execution_count": 6,
   "metadata": {},
   "outputs": [
    {
     "data": {
      "text/plain": [
       "Tỉnh/TP\n",
       "Hà Nội         8246540\n",
       "Nam Định       1780330\n",
       "Thanh Hóa      3664940\n",
       "Thanh Hóa      1169480\n",
       "Hồ Chí Minh    9227600\n",
       "dtype: int64"
      ]
     },
     "execution_count": 6,
     "metadata": {},
     "output_type": "execute_result"
    }
   ],
   "source": [
    "vn_pop[:,2020]"
   ]
  },
  {
   "cell_type": "code",
   "execution_count": 14,
   "metadata": {},
   "outputs": [
    {
     "name": "stdout",
     "output_type": "stream",
     "text": [
      "(Hà Nội, 2015)         7216000\n",
      "(Hà Nội, 2020)         8246540\n",
      "(Nam Định, 2015)       1850600\n",
      "(Nam Định, 2020)       1780330\n",
      "(Thanh Hóa, 2015)      3514200\n",
      "(Thanh Hóa, 2020)      3664940\n",
      "(Đà Nẵng, 2015)        1028800\n",
      "(Thanh Hóa, 2020)      1169480\n",
      "(Hồ Chí Minh, 2015)    8146300\n",
      "(Hồ Chí Minh, 2020)    9227600\n",
      "dtype: int64 \n",
      "\n"
     ]
    },
    {
     "ename": "ValueError",
     "evalue": "index must be a MultiIndex to unstack, <class 'pandas.core.indexes.base.Index'> was passed",
     "output_type": "error",
     "traceback": [
      "\u001b[1;31m---------------------------------------------------------------------------\u001b[0m",
      "\u001b[1;31mValueError\u001b[0m                                Traceback (most recent call last)",
      "\u001b[1;32md:\\Chuong 4\\vidu\\vd4.6.1.ipynb Cell 11\u001b[0m line \u001b[0;36m2\n\u001b[0;32m      <a href='vscode-notebook-cell:/d%3A/Chuong%204/vidu/vd4.6.1.ipynb#X21sZmlsZQ%3D%3D?line=0'>1</a>\u001b[0m \u001b[39mprint\u001b[39m(vn_pop,\u001b[39m'\u001b[39m\u001b[39m\\n\u001b[39;00m\u001b[39m'\u001b[39m)\n\u001b[1;32m----> <a href='vscode-notebook-cell:/d%3A/Chuong%204/vidu/vd4.6.1.ipynb#X21sZmlsZQ%3D%3D?line=1'>2</a>\u001b[0m vn_pop_df \u001b[39m=\u001b[39m vn_pop\u001b[39m.\u001b[39munstack()\n\u001b[0;32m      <a href='vscode-notebook-cell:/d%3A/Chuong%204/vidu/vd4.6.1.ipynb#X21sZmlsZQ%3D%3D?line=2'>3</a>\u001b[0m vn_pop_df\n",
      "File \u001b[1;32mc:\\Users\\Admin\\anaconda3\\Lib\\site-packages\\pandas\\core\\series.py:4313\u001b[0m, in \u001b[0;36mSeries.unstack\u001b[1;34m(self, level, fill_value)\u001b[0m\n\u001b[0;32m   4270\u001b[0m \u001b[39m\u001b[39m\u001b[39m\"\"\"\u001b[39;00m\n\u001b[0;32m   4271\u001b[0m \u001b[39mUnstack, also known as pivot, Series with MultiIndex to produce DataFrame.\u001b[39;00m\n\u001b[0;32m   4272\u001b[0m \n\u001b[1;32m   (...)\u001b[0m\n\u001b[0;32m   4309\u001b[0m \u001b[39mb    2    4\u001b[39;00m\n\u001b[0;32m   4310\u001b[0m \u001b[39m\"\"\"\u001b[39;00m\n\u001b[0;32m   4311\u001b[0m \u001b[39mfrom\u001b[39;00m \u001b[39mpandas\u001b[39;00m\u001b[39m.\u001b[39;00m\u001b[39mcore\u001b[39;00m\u001b[39m.\u001b[39;00m\u001b[39mreshape\u001b[39;00m\u001b[39m.\u001b[39;00m\u001b[39mreshape\u001b[39;00m \u001b[39mimport\u001b[39;00m unstack\n\u001b[1;32m-> 4313\u001b[0m \u001b[39mreturn\u001b[39;00m unstack(\u001b[39mself\u001b[39m, level, fill_value)\n",
      "File \u001b[1;32mc:\\Users\\Admin\\anaconda3\\Lib\\site-packages\\pandas\\core\\reshape\\reshape.py:482\u001b[0m, in \u001b[0;36munstack\u001b[1;34m(obj, level, fill_value)\u001b[0m\n\u001b[0;32m    477\u001b[0m         \u001b[39mreturn\u001b[39;00m obj\u001b[39m.\u001b[39mT\u001b[39m.\u001b[39mstack(dropna\u001b[39m=\u001b[39m\u001b[39mFalse\u001b[39;00m)\n\u001b[0;32m    478\u001b[0m \u001b[39melif\u001b[39;00m \u001b[39mnot\u001b[39;00m \u001b[39misinstance\u001b[39m(obj\u001b[39m.\u001b[39mindex, MultiIndex):\n\u001b[0;32m    479\u001b[0m     \u001b[39m# GH 36113\u001b[39;00m\n\u001b[0;32m    480\u001b[0m     \u001b[39m# Give nicer error messages when unstack a Series whose\u001b[39;00m\n\u001b[0;32m    481\u001b[0m     \u001b[39m# Index is not a MultiIndex.\u001b[39;00m\n\u001b[1;32m--> 482\u001b[0m     \u001b[39mraise\u001b[39;00m \u001b[39mValueError\u001b[39;00m(\n\u001b[0;32m    483\u001b[0m         \u001b[39mf\u001b[39m\u001b[39m\"\u001b[39m\u001b[39mindex must be a MultiIndex to unstack, \u001b[39m\u001b[39m{\u001b[39;00m\u001b[39mtype\u001b[39m(obj\u001b[39m.\u001b[39mindex)\u001b[39m}\u001b[39;00m\u001b[39m was passed\u001b[39m\u001b[39m\"\u001b[39m\n\u001b[0;32m    484\u001b[0m     )\n\u001b[0;32m    485\u001b[0m \u001b[39melse\u001b[39;00m:\n\u001b[0;32m    486\u001b[0m     \u001b[39mif\u001b[39;00m is_1d_only_ea_dtype(obj\u001b[39m.\u001b[39mdtype):\n",
      "\u001b[1;31mValueError\u001b[0m: index must be a MultiIndex to unstack, <class 'pandas.core.indexes.base.Index'> was passed"
     ]
    }
   ],
   "source": [
    "print(vn_pop,'\\n')\n",
    "vn_pop_df = vn_pop.unstack()\n",
    "vn_pop_df"
   ]
  }
 ],
 "metadata": {
  "kernelspec": {
   "display_name": "base",
   "language": "python",
   "name": "python3"
  },
  "language_info": {
   "codemirror_mode": {
    "name": "ipython",
    "version": 3
   },
   "file_extension": ".py",
   "mimetype": "text/x-python",
   "name": "python",
   "nbconvert_exporter": "python",
   "pygments_lexer": "ipython3",
   "version": "3.11.5"
  }
 },
 "nbformat": 4,
 "nbformat_minor": 2
}
