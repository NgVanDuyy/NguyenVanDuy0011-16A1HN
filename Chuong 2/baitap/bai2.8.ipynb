{
 "cells": [
  {
   "cell_type": "code",
   "execution_count": 1,
   "metadata": {},
   "outputs": [
    {
     "name": "stdout",
     "output_type": "stream",
     "text": [
      "{\n",
      "    \"name\": \"Duy\",\n",
      "    \"age\": 19,\n",
      "    \"city\": \"Ha Noi\"\n",
      "}\n"
     ]
    }
   ],
   "source": [
    "import json\n",
    "\n",
    "# Tạo một đối tượng từ điển Python sắp xếp theo khóa\n",
    "my_dict = {\n",
    "    \"name\": \"Duy\",\n",
    "    \"age\": 19,\n",
    "    \"city\": \"Ha Noi\"\n",
    "}\n",
    "\n",
    "# Mở tệp JSON để ghi dữ liệu\n",
    "with open(\"output.json\", \"w\") as json_file:\n",
    "    # Chuyển đối tượng từ điển thành dữ liệu JSON với thụt lề 4\n",
    "    json.dump(my_dict, json_file, indent=4)\n",
    "\n",
    "# Đọc và in nội dung của tệp JSON\n",
    "with open(\"output.json\", \"r\") as json_file:\n",
    "    data = json_file.read()\n",
    "    print(data)\n"
   ]
  }
 ],
 "metadata": {
  "kernelspec": {
   "display_name": "Python 3",
   "language": "python",
   "name": "python3"
  },
  "language_info": {
   "codemirror_mode": {
    "name": "ipython",
    "version": 3
   },
   "file_extension": ".py",
   "mimetype": "text/x-python",
   "name": "python",
   "nbconvert_exporter": "python",
   "pygments_lexer": "ipython3",
   "version": "3.11.6"
  }
 },
 "nbformat": 4,
 "nbformat_minor": 2
}
