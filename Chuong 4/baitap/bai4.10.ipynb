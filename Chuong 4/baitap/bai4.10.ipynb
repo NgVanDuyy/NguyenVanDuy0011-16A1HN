{
 "cells": [
  {
   "cell_type": "code",
   "execution_count": 1,
   "metadata": {},
   "outputs": [
    {
     "name": "stdout",
     "output_type": "stream",
     "text": [
      "Chuỗi ban đầu:\n",
      "0    6\n",
      "1    7\n",
      "2    4\n",
      "3    2\n",
      "4    7\n",
      "5    5\n",
      "6    9\n",
      "dtype: int32\n",
      "\n",
      "Vị trí của các số là bội của 3:\n",
      "Index([0, 6], dtype='int64')\n"
     ]
    }
   ],
   "source": [
    "import numpy as np\n",
    "import pandas as pd\n",
    "\n",
    "# Tạo một Series có 7 phần tử, mỗi phần tử là một số nguyên ngẫu nhiên từ 1 đến 10.\n",
    "ser = pd.Series(np.random.randint(1, 10, 7))\n",
    "\n",
    "# Tìm vị trí của các số là bội của 3\n",
    "multiples_of_3_indices = ser.index[ser % 3 == 0]\n",
    "\n",
    "# Hiển thị kết quả\n",
    "print(\"Chuỗi ban đầu:\")\n",
    "print(ser)\n",
    "\n",
    "print(\"\\nVị trí của các số là bội của 3:\")\n",
    "print(multiples_of_3_indices)\n"
   ]
  }
 ],
 "metadata": {
  "kernelspec": {
   "display_name": "base",
   "language": "python",
   "name": "python3"
  },
  "language_info": {
   "codemirror_mode": {
    "name": "ipython",
    "version": 3
   },
   "file_extension": ".py",
   "mimetype": "text/x-python",
   "name": "python",
   "nbconvert_exporter": "python",
   "pygments_lexer": "ipython3",
   "version": "3.11.5"
  }
 },
 "nbformat": 4,
 "nbformat_minor": 2
}
