{
 "cells": [
  {
   "cell_type": "code",
   "execution_count": 1,
   "metadata": {},
   "outputs": [
    {
     "name": "stdout",
     "output_type": "stream",
     "text": [
      "Mảng con sub_arr1 là: [array([0, 1, 2]), array([3, 4, 5]), array([6, 7, 8, 9])] \n",
      "\n",
      "Mảng con sub_arr2 là: [array([0, 1, 2, 3, 4]), array([5, 6, 7, 8, 9])]\n"
     ]
    }
   ],
   "source": [
    "import numpy as np\n",
    "arr = np.arange(10) #Tạo mảng arr gồm 10 phần tử từ 0-9\n",
    "sub_arr1=np.split(arr,[3, 6]) #chia mảng arr theo chỉ mục [3, 6]\n",
    "#Phần đầu tiên bắt đầu từ chỉ mục 0 và kết thúc trước chỉ mục 3.\n",
    "#Phần thứ hai bắt đầu từ chỉ mục 3 và kết thúc trước chỉ mục 6.\n",
    "\n",
    "sub_arr2=np.split(arr,2) #chia mảng arr thành 2 phần bằng nhau\n",
    "print(\"Mảng con sub_arr1 là:\", sub_arr1, \"\\n\")\n",
    "print(\"Mảng con sub_arr2 là:\", sub_arr2)"
   ]
  }
 ],
 "metadata": {
  "kernelspec": {
   "display_name": "base",
   "language": "python",
   "name": "python3"
  },
  "language_info": {
   "codemirror_mode": {
    "name": "ipython",
    "version": 3
   },
   "file_extension": ".py",
   "mimetype": "text/x-python",
   "name": "python",
   "nbconvert_exporter": "python",
   "pygments_lexer": "ipython3",
   "version": "3.11.5"
  }
 },
 "nbformat": 4,
 "nbformat_minor": 2
}
