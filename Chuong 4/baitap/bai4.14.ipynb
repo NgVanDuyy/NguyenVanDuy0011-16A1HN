{
 "cells": [
  {
   "cell_type": "code",
   "execution_count": 1,
   "metadata": {},
   "outputs": [
    {
     "name": "stdout",
     "output_type": "stream",
     "text": [
      "Chuỗi truth:\n",
      "0    0\n",
      "1    1\n",
      "2    2\n",
      "3    3\n",
      "4    4\n",
      "5    5\n",
      "6    6\n",
      "7    7\n",
      "8    8\n",
      "9    9\n",
      "dtype: int64\n",
      "\n",
      "Chuỗi pred:\n",
      "0    0.807370\n",
      "1    1.255067\n",
      "2    2.517548\n",
      "3    3.219672\n",
      "4    4.333513\n",
      "5    5.605285\n",
      "6    6.607950\n",
      "7    7.445855\n",
      "8    8.068694\n",
      "9    9.267379\n",
      "dtype: float64\n",
      "\n",
      "Sai số bình phương trung bình (MSE): 0.21552171947124182\n"
     ]
    }
   ],
   "source": [
    "import pandas as pd\n",
    "import numpy as np\n",
    "\n",
    "# Tạo chuỗi truth và chuỗi pred\n",
    "truth = pd.Series(range(10))\n",
    "pred = pd.Series(range(10)) + np.random.random(10)\n",
    "\n",
    "# Tính sai số bình phương giữa truth và pred\n",
    "mse = ((truth - pred) ** 2).mean()\n",
    "\n",
    "# Hiển thị kết quả\n",
    "print(\"Chuỗi truth:\")\n",
    "print(truth)\n",
    "\n",
    "print(\"\\nChuỗi pred:\")\n",
    "print(pred)\n",
    "\n",
    "print(\"\\nSai số bình phương trung bình (MSE):\", mse)\n"
   ]
  }
 ],
 "metadata": {
  "kernelspec": {
   "display_name": "base",
   "language": "python",
   "name": "python3"
  },
  "language_info": {
   "codemirror_mode": {
    "name": "ipython",
    "version": 3
   },
   "file_extension": ".py",
   "mimetype": "text/x-python",
   "name": "python",
   "nbconvert_exporter": "python",
   "pygments_lexer": "ipython3",
   "version": "3.11.5"
  }
 },
 "nbformat": 4,
 "nbformat_minor": 2
}
