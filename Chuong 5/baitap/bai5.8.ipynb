{
 "cells": [
  {
   "cell_type": "code",
   "execution_count": 1,
   "metadata": {},
   "outputs": [
    {
     "name": "stdout",
     "output_type": "stream",
     "text": [
      "Row with name = Duy deleted from table 'mytable'.\n"
     ]
    }
   ],
   "source": [
    "import sqlite3\n",
    "\n",
    "def delete_row(table_name, condition_column, condition_value):\n",
    "    # Kết nối đến cơ sở dữ liệu SQLite\n",
    "    conn = sqlite3.connect('mydatabase.db')\n",
    "\n",
    "    # Lấy đối tượng con trỏ\n",
    "    cursor = conn.cursor()\n",
    "\n",
    "    # Thực hiện truy vấn xóa hàng\n",
    "    cursor.execute(f\"DELETE FROM {table_name} WHERE {condition_column} = ?;\", (condition_value,))\n",
    "\n",
    "    # Lưu thay đổi\n",
    "    conn.commit()\n",
    "\n",
    "    # In ra thông báo nếu xóa thành công\n",
    "    print(f\"Row with {condition_column} = {condition_value} deleted from table '{table_name}'.\")\n",
    "\n",
    "    # Đóng kết nối\n",
    "    conn.close()\n",
    "\n",
    "def main():\n",
    "    # Tên bảng cần xóa hàng\n",
    "    table_name = 'mytable'\n",
    "\n",
    "    # Tên cột và giá trị để xác định hàng cần xóa\n",
    "    condition_column = 'name'\n",
    "    condition_value = 'Duy'\n",
    "\n",
    "    # Xóa hàng cụ thể từ bảng\n",
    "    delete_row(table_name, condition_column, condition_value)\n",
    "\n",
    "if __name__ == \"__main__\":\n",
    "    main()\n"
   ]
  }
 ],
 "metadata": {
  "kernelspec": {
   "display_name": "base",
   "language": "python",
   "name": "python3"
  },
  "language_info": {
   "codemirror_mode": {
    "name": "ipython",
    "version": 3
   },
   "file_extension": ".py",
   "mimetype": "text/x-python",
   "name": "python",
   "nbconvert_exporter": "python",
   "pygments_lexer": "ipython3",
   "version": "3.11.5"
  }
 },
 "nbformat": 4,
 "nbformat_minor": 2
}
