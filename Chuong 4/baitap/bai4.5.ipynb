{
 "cells": [
  {
   "cell_type": "code",
   "execution_count": 1,
   "metadata": {},
   "outputs": [
    {
     "name": "stdout",
     "output_type": "stream",
     "text": [
      "1. Giá trị tối thiểu của ser: -1.7457325164108184\n",
      "2. Phần centile thứ 25 của ser: 5.259258864623884\n",
      "3. Trung vị của ser: 8.518670841842606\n"
     ]
    }
   ],
   "source": [
    "import numpy as np\n",
    "import pandas as pd\n",
    "\n",
    "# Tạo một Series ngẫu nhiên\n",
    "ser = pd.Series(np.random.normal(10, 5, 25))\n",
    "\n",
    "# 1. Giá trị tối thiểu (minimum) của ser\n",
    "min_value = np.min(ser)\n",
    "\n",
    "# 2. Phần centile thứ 25 (25th percentile) của ser\n",
    "percentile_25 = np.percentile(ser, 25)\n",
    "\n",
    "# 3. Trung vị (median) của ser\n",
    "median_value = np.median(ser)\n",
    "\n",
    "# Hiển thị kết quả\n",
    "print(\"1. Giá trị tối thiểu của ser:\", min_value)\n",
    "print(\"2. Phần centile thứ 25 của ser:\", percentile_25)\n",
    "print(\"3. Trung vị của ser:\", median_value)\n"
   ]
  }
 ],
 "metadata": {
  "kernelspec": {
   "display_name": "base",
   "language": "python",
   "name": "python3"
  },
  "language_info": {
   "codemirror_mode": {
    "name": "ipython",
    "version": 3
   },
   "file_extension": ".py",
   "mimetype": "text/x-python",
   "name": "python",
   "nbconvert_exporter": "python",
   "pygments_lexer": "ipython3",
   "version": "3.11.5"
  }
 },
 "nbformat": 4,
 "nbformat_minor": 2
}
