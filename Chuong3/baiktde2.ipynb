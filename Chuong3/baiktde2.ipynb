{
 "cells": [
  {
   "cell_type": "code",
   "execution_count": 4,
   "metadata": {},
   "outputs": [
    {
     "name": "stdout",
     "output_type": "stream",
     "text": [
      "Tên: Nguyễn Văn A\n",
      "Mã số nhân viên: 12345\n",
      "Lương: 0\n"
     ]
    }
   ],
   "source": [
    "#xây dựng lớp Employee\n",
    "class Employee:\n",
    "    def __init__(self, name, employeeID):\n",
    "        self.name = name\n",
    "        self.employeeID = employeeID\n",
    "        self.salary = 0  # Lương mặc định là 0\n",
    "\n",
    "    def calculateSalary(self):\n",
    "        pass  # Phương thức trừu tượng, không cần cài đặt\n",
    "\n",
    "# Sử dụng lớp Employee\n",
    "employee1 = Employee(\"Nguyễn Văn A\", 12345)\n",
    "print(f\"Tên: {employee1.name}\")\n",
    "print(f\"Mã số nhân viên: {employee1.employeeID}\")\n",
    "print(f\"Lương: {employee1.salary}\")\n"
   ]
  },
  {
   "cell_type": "code",
   "execution_count": 5,
   "metadata": {},
   "outputs": [
    {
     "name": "stdout",
     "output_type": "stream",
     "text": [
      "Tên: Nguyễn Văn B\n",
      "Mã số nhân viên: 67890\n",
      "Tỉ lệ giờ công: 15.0\n",
      "Số giờ làm việc: 40\n",
      "Lương: 600.0\n"
     ]
    }
   ],
   "source": [
    "#Xây dựng lớp worker\n",
    "class Worker(Employee):\n",
    "    def __init__(self, name, employeeID, hourlyRate, hoursWorked):\n",
    "        super().__init__(name, employeeID)  # Gọi hàm tạo của lớp cha để thiết lập tên và mã số nhân viên\n",
    "        self.hourlyRate = hourlyRate\n",
    "        self.hoursWorked = hoursWorked\n",
    "\n",
    "    def calculateSalary(self):\n",
    "        return self.hourlyRate * self.hoursWorked\n",
    "\n",
    "# Sử dụng lớp Worker\n",
    "worker1 = Worker(\"Nguyễn Văn B\", 67890, 15.0, 40)  # Tỉ lệ giờ công: 15, Số giờ làm việc: 40\n",
    "print(f\"Tên: {worker1.name}\")\n",
    "print(f\"Mã số nhân viên: {worker1.employeeID}\")\n",
    "print(f\"Tỉ lệ giờ công: {worker1.hourlyRate}\")\n",
    "print(f\"Số giờ làm việc: {worker1.hoursWorked}\")\n",
    "print(f\"Lương: {worker1.calculateSalary()}\")  # Gọi phương thức calculateSalary để tính lương\n"
   ]
  },
  {
   "cell_type": "code",
   "execution_count": 6,
   "metadata": {},
   "outputs": [
    {
     "name": "stdout",
     "output_type": "stream",
     "text": [
      "Tên: Nguyễn Văn D\n",
      "Mã số nhân viên: 34567\n",
      "Thưởng: 5000\n",
      "Lương: 5000\n"
     ]
    }
   ],
   "source": [
    "#Xây dựng lớp Manager\n",
    "class Manager(Employee):\n",
    "    def __init__(self, name, employeeID, bonus):\n",
    "        super().__init__(name, employeeID)  # Gọi hàm tạo của lớp cha để thiết lập tên và mã số nhân viên\n",
    "        self.bonus = bonus\n",
    "\n",
    "    def calculateSalary(self):\n",
    "        return self.salary + self.bonus\n",
    "\n",
    "# Sử dụng lớp Manager\n",
    "manager1 = Manager(\"Nguyễn Văn D\", 34567, 5000)  # Thưởng: 5000\n",
    "print(f\"Tên: {manager1.name}\")\n",
    "print(f\"Mã số nhân viên: {manager1.employeeID}\")\n",
    "print(f\"Thưởng: {manager1.bonus}\")\n",
    "print(f\"Lương: {manager1.calculateSalary()}\")  # Gọi phương thức calculateSalary để tính lương"
   ]
  },
  {
   "cell_type": "code",
   "execution_count": 7,
   "metadata": {},
   "outputs": [
    {
     "name": "stdout",
     "output_type": "stream",
     "text": [
      "Nhập thông tin cho nhân viên 1:\n",
      "Nhập thông tin cho nhân viên 2:\n",
      "Nhập thông tin cho nhân viên 3:\n",
      "\n",
      "Danh sách nhân viên và lương của họ:\n",
      "Nvd (Mã số 12345): Lương = 300.0\n",
      "Nqh (Mã số 23456): Lương = 375.0\n",
      "nvd (Mã số 34567): Lương = 4000.0\n"
     ]
    }
   ],
   "source": [
    "def input_employee_count():\n",
    "    while True:\n",
    "        try:\n",
    "            n = int(input(\"Nhập số lượng nhân viên (n): \"))\n",
    "            if n > 0:\n",
    "                return n\n",
    "            else:\n",
    "                print(\"Số lượng nhân viên phải lớn hơn 0.\")\n",
    "        except ValueError:\n",
    "            print(\"Vui lòng nhập một số nguyên dương.\")\n",
    "\n",
    "def create_employee_list(n):\n",
    "    employee_list = []\n",
    "    for i in range(n):\n",
    "        print(f\"Nhập thông tin cho nhân viên {i + 1}:\")\n",
    "        name = input(\"Tên: \")\n",
    "        employeeID = input(\"Mã số nhân viên: \")\n",
    "        role = input(\"Chức vụ (Worker/Manager): \")\n",
    "        \n",
    "        if role.lower() == \"worker\":\n",
    "            hourlyRate = float(input(\"Tỉ lệ giờ công: \"))\n",
    "            hoursWorked = float(input(\"Số giờ làm việc: \"))\n",
    "            employee = Worker(name, employeeID, hourlyRate, hoursWorked)\n",
    "        elif role.lower() == \"manager\":\n",
    "            bonus = float(input(\"Thưởng: \"))\n",
    "            employee = Manager(name, employeeID, bonus)\n",
    "        else:\n",
    "            print(\"Chức vụ không hợp lệ. Vui lòng nhập 'Worker' hoặc 'Manager'.\")\n",
    "            continue\n",
    "\n",
    "        employee_list.append(employee)\n",
    "    \n",
    "    return employee_list\n",
    "\n",
    "def main():\n",
    "    n = input_employee_count()\n",
    "    employee_list = create_employee_list(n)\n",
    "\n",
    "    print(\"\\nDanh sách nhân viên và lương của họ:\")\n",
    "    for employee in employee_list:\n",
    "        employee.salary = employee.calculateSalary()\n",
    "        print(f\"{employee.name} (Mã số {employee.employeeID}): Lương = {employee.salary}\")\n",
    "\n",
    "if __name__ == \"__main__\":\n",
    "    main()"
   ]
  }
 ],
 "metadata": {
  "kernelspec": {
   "display_name": "base",
   "language": "python",
   "name": "python3"
  },
  "language_info": {
   "codemirror_mode": {
    "name": "ipython",
    "version": 3
   },
   "file_extension": ".py",
   "mimetype": "text/x-python",
   "name": "python",
   "nbconvert_exporter": "python",
   "pygments_lexer": "ipython3",
   "version": "3.11.5"
  }
 },
 "nbformat": 4,
 "nbformat_minor": 2
}
