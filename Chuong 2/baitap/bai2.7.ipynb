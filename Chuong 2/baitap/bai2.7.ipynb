{
 "cells": [
  {
   "cell_type": "code",
   "execution_count": 2,
   "metadata": {},
   "outputs": [
    {
     "name": "stdout",
     "output_type": "stream",
     "text": [
      "Chuỗi JSON:\n",
      "{\"name\": \"Duy\", \"age\": 19, \"city\": \"Ha Noi\"}\n",
      "\n",
      "Các giá trị:\n",
      "Name: Duy\n",
      "Age: 19\n",
      "City: Ha Noi\n"
     ]
    }
   ],
   "source": [
    "import json\n",
    "\n",
    "# Tạo một đối tượng Python (dictionary) để chuyển đổi thành JSON\n",
    "my_dict = {\n",
    "    \"name\": \"Duy\",\n",
    "    \"age\": 19,\n",
    "    \"city\": \"Ha Noi\"\n",
    "}\n",
    "\n",
    "# Chuyển đối tượng thành chuỗi JSON\n",
    "json_string = json.dumps(my_dict)\n",
    "\n",
    "# In ra chuỗi JSON\n",
    "print(\"Chuỗi JSON:\")\n",
    "print(json_string)\n",
    "\n",
    "# Chuyển đổi chuỗi JSON thành đối tượng Python (dictionary) để truy cập các giá trị\n",
    "parsed_dict = json.loads(json_string)\n",
    "\n",
    "# In ra tất cả các giá trị\n",
    "print(\"\\nCác giá trị:\")\n",
    "print(\"Name:\", parsed_dict[\"name\"])\n",
    "print(\"Age:\", parsed_dict[\"age\"])\n",
    "print(\"City:\", parsed_dict[\"city\"])\n"
   ]
  }
 ],
 "metadata": {
  "kernelspec": {
   "display_name": "Python 3",
   "language": "python",
   "name": "python3"
  },
  "language_info": {
   "codemirror_mode": {
    "name": "ipython",
    "version": 3
   },
   "file_extension": ".py",
   "mimetype": "text/x-python",
   "name": "python",
   "nbconvert_exporter": "python",
   "pygments_lexer": "ipython3",
   "version": "3.11.6"
  }
 },
 "nbformat": 4,
 "nbformat_minor": 2
}
