{
 "cells": [
  {
   "cell_type": "code",
   "execution_count": 1,
   "metadata": {},
   "outputs": [
    {
     "name": "stdout",
     "output_type": "stream",
     "text": [
      "arr_zeros: [0. 0. 0. 0. 1. 0. 0. 0. 0. 0.]\n",
      "arr_h: [24 23 22 21 20 19 18 17 16 15 14 13 12 11 10]\n",
      "arr_l: [1 2 8 2 1 3 5]\n",
      "arr_l (sau khi thêm 10 và 20): [ 1  2  8  2  1  3  5 10 20]\n",
      "arr_l (sau khi thêm 100): [  1   2   8   2   1 100   3   5  10  20]\n",
      "arr_l (sau khi xóa): [  2   1 100   3   5  10  20]\n"
     ]
    }
   ],
   "source": [
    "import numpy as np\n",
    "\n",
    "# Bước 1: Tạo arr_zeros với 10 phần tử 0, cập nhật phần tử thứ 5 thành 1\n",
    "arr_zeros = np.zeros(10)\n",
    "arr_zeros[4] = 1\n",
    "\n",
    "# Hiển thị arr_zeros\n",
    "print(\"arr_zeros:\", arr_zeros)\n",
    "\n",
    "# Bước 2: Tạo arr_h với giá trị từ 10 đến 24, in theo thứ tự đảo ngược\n",
    "arr_h = np.arange(10, 25)\n",
    "arr_h = np.flip(arr_h)\n",
    "\n",
    "# Hiển thị arr_h\n",
    "print(\"arr_h:\", arr_h)\n",
    "\n",
    "# Bước 3: Tạo arr_k từ arr_k với các phần tử khác 0\n",
    "arr_k = np.array([1, 2, 0, 8, 2, 0, 1, 3, 0, 5, 0])\n",
    "arr_l = arr_k[arr_k != 0]\n",
    "\n",
    "# Hiển thị arr_l\n",
    "print(\"arr_l:\", arr_l)\n",
    "\n",
    "# Bước 4: Thêm 2 phần tử có giá trị 10 và 20 vào cuối arr_l\n",
    "arr_l = np.append(arr_l, [10, 20])\n",
    "\n",
    "# Hiển thị arr_l sau khi thêm phần tử\n",
    "print(\"arr_l (sau khi thêm 10 và 20):\", arr_l)\n",
    "\n",
    "# Bước 5: Thêm phần tử có giá trị 100 vào vị trí có index = 5\n",
    "arr_l = np.insert(arr_l, 5, 100)\n",
    "\n",
    "# Hiển thị arr_l sau khi thêm phần tử 100\n",
    "print(\"arr_l (sau khi thêm 100):\", arr_l)\n",
    "\n",
    "# Bước 6: Xóa các phần tử tại vị trí có index = 0, 1, 2\n",
    "arr_l = np.delete(arr_l, [0, 1, 2])\n",
    "\n",
    "# Hiển thị arr_l sau khi xóa\n",
    "print(\"arr_l (sau khi xóa):\", arr_l)\n"
   ]
  }
 ],
 "metadata": {
  "kernelspec": {
   "display_name": "base",
   "language": "python",
   "name": "python3"
  },
  "language_info": {
   "codemirror_mode": {
    "name": "ipython",
    "version": 3
   },
   "file_extension": ".py",
   "mimetype": "text/x-python",
   "name": "python",
   "nbconvert_exporter": "python",
   "pygments_lexer": "ipython3",
   "version": "3.11.5"
  }
 },
 "nbformat": 4,
 "nbformat_minor": 2
}
