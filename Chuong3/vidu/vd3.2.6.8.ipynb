{
 "cells": [
  {
   "cell_type": "code",
   "execution_count": null,
   "metadata": {},
   "outputs": [],
   "source": [
    "import numpy as np\n",
    "# Tạo môt mảng 100 giá trị ngẫu nhiên từ phân phối chuẩn với trung bình 0 và độ lệch chuẩn là 1.\n",
    "arr_6 = np.random.normal(loc=0.0, scale=1.0, size=100)\n",
    "print(arr_6) \n"
   ]
  },
  {
   "cell_type": "code",
   "execution_count": 3,
   "metadata": {},
   "outputs": [
    {
     "data": {
      "text/plain": [
       "array([[1., 0., 0.],\n",
       "       [0., 1., 0.],\n",
       "       [0., 0., 1.]])"
      ]
     },
     "execution_count": 3,
     "metadata": {},
     "output_type": "execute_result"
    }
   ],
   "source": [
    "import numpy as np\n",
    "# Tạo mảng 2 chiều 3x3 gồm các số nguyên ngẫu nhiên từ 0 9\n",
    "np.eye(3,3)"
   ]
  },
  {
   "cell_type": "code",
   "execution_count": 1,
   "metadata": {},
   "outputs": [
    {
     "data": {
      "text/plain": [
       "array([1.22389163e-307, 1.11260348e-306, 1.44635488e-307, 9.34609111e-307,\n",
       "       1.89146896e-307])"
      ]
     },
     "execution_count": 1,
     "metadata": {},
     "output_type": "execute_result"
    }
   ],
   "source": [
    "import numpy as np\n",
    "# Tạo mảng rỗng gồm 5 phần tử, giá trị của 5 phần tử này có thể là bất kỳ giá trị\n",
    "# nào đã lưu trong bộ nhớ trước đó.\n",
    "np.empty(5)"
   ]
  }
 ],
 "metadata": {
  "kernelspec": {
   "display_name": "base",
   "language": "python",
   "name": "python3"
  },
  "language_info": {
   "codemirror_mode": {
    "name": "ipython",
    "version": 3
   },
   "file_extension": ".py",
   "mimetype": "text/x-python",
   "name": "python",
   "nbconvert_exporter": "python",
   "pygments_lexer": "ipython3",
   "version": "3.11.5"
  }
 },
 "nbformat": 4,
 "nbformat_minor": 2
}
