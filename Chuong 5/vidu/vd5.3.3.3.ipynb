{
 "cells": [
  {
   "cell_type": "code",
   "execution_count": 2,
   "metadata": {},
   "outputs": [
    {
     "ename": "OperationalError",
     "evalue": "no such table: khoan_chi",
     "output_type": "error",
     "traceback": [
      "\u001b[1;31m---------------------------------------------------------------------------\u001b[0m",
      "\u001b[1;31mOperationalError\u001b[0m                          Traceback (most recent call last)",
      "Cell \u001b[1;32mIn[2], line 7\u001b[0m\n\u001b[0;32m      5\u001b[0m cursor \u001b[38;5;241m=\u001b[39m conn\u001b[38;5;241m.\u001b[39mcursor()\n\u001b[0;32m      6\u001b[0m \u001b[38;5;66;03m# Truy vấn dữ liệu từ bảng 'khoan_chi'\u001b[39;00m\n\u001b[1;32m----> 7\u001b[0m cursor\u001b[38;5;241m.\u001b[39mexecute(\u001b[38;5;124m\"\u001b[39m\u001b[38;5;124mSELECT * FROM khoan_chi\u001b[39m\u001b[38;5;124m\"\u001b[39m)\n\u001b[0;32m      8\u001b[0m rows \u001b[38;5;241m=\u001b[39m cursor\u001b[38;5;241m.\u001b[39mfetchall()\n\u001b[0;32m      9\u001b[0m \u001b[38;5;66;03m# Lấy thông tin về các tên cột\u001b[39;00m\n",
      "\u001b[1;31mOperationalError\u001b[0m: no such table: khoan_chi"
     ]
    }
   ],
   "source": [
    "import sqlite3\n",
    "import matplotlib.pyplot as plt\n",
    "# Kết nối đến cơ sở dữ liệu\n",
    "conn = sqlite3.connect('ct_giadinh.db')\n",
    "cursor = conn.cursor()\n",
    "# Truy vấn dữ liệu từ bảng 'khoan_chi'\n",
    "cursor.execute(\"SELECT * FROM khoan_chi\")\n",
    "rows = cursor.fetchall()\n",
    "# Lấy thông tin về các tên cột\n",
    "column_names = [description[0] for description in\n",
    "cursor.description][1:]\n",
    "# Tách dữ liệu thành hai danh sách riêng biệt cho loại chi tiêu và tổng số tiền\n",
    "loai_chi = column_names\n",
    "tien_chi = rows[0][1:]\n",
    "# Đóng kết nối\n",
    "conn.close()"
   ]
  }
 ],
 "metadata": {
  "kernelspec": {
   "display_name": "base",
   "language": "python",
   "name": "python3"
  },
  "language_info": {
   "codemirror_mode": {
    "name": "ipython",
    "version": 3
   },
   "file_extension": ".py",
   "mimetype": "text/x-python",
   "name": "python",
   "nbconvert_exporter": "python",
   "pygments_lexer": "ipython3",
   "version": "3.11.5"
  }
 },
 "nbformat": 4,
 "nbformat_minor": 2
}
