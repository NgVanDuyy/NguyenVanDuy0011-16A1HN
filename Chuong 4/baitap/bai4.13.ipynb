{
 "cells": [
  {
   "cell_type": "code",
   "execution_count": 1,
   "metadata": {},
   "outputs": [
    {
     "name": "stdout",
     "output_type": "stream",
     "text": [
      "Vị trí của các mục của ser2 trong ser1:\n",
      "[0, 4, 5, 6]\n"
     ]
    }
   ],
   "source": [
    "import pandas as pd\n",
    "import numpy as np\n",
    "\n",
    "# Tạo hai Series\n",
    "ser1 = pd.Series([10, 9, 6, 5, 3, 1, 12, 8, 13])\n",
    "ser2 = pd.Series([1, 3, 10, 12])\n",
    "\n",
    "# Lấy vị trí của các mục của ser2 trong ser1 dưới dạng danh sách\n",
    "positions = ser1[ser1.isin(ser2)].index.tolist()\n",
    "\n",
    "# Hoặc sử dụng np.where()\n",
    "# positions = np.where(ser1.isin(ser2))[0].tolist()\n",
    "\n",
    "# Hiển thị kết quả\n",
    "print(\"Vị trí của các mục của ser2 trong ser1:\")\n",
    "print(positions)\n"
   ]
  }
 ],
 "metadata": {
  "kernelspec": {
   "display_name": "base",
   "language": "python",
   "name": "python3"
  },
  "language_info": {
   "codemirror_mode": {
    "name": "ipython",
    "version": 3
   },
   "file_extension": ".py",
   "mimetype": "text/x-python",
   "name": "python",
   "nbconvert_exporter": "python",
   "pygments_lexer": "ipython3",
   "version": "3.11.5"
  }
 },
 "nbformat": 4,
 "nbformat_minor": 2
}
