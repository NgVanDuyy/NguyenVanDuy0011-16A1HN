{
 "cells": [
  {
   "cell_type": "code",
   "execution_count": 1,
   "metadata": {},
   "outputs": [
    {
     "name": "stdout",
     "output_type": "stream",
     "text": [
      "Hello jupyter notebook\n"
     ]
    }
   ],
   "source": [
    "print(\"Hello jupyter notebook\")"
   ]
  },
  {
   "cell_type": "code",
   "execution_count": 2,
   "metadata": {},
   "outputs": [
    {
     "name": "stdout",
     "output_type": "stream",
     "text": [
      "{'name': 'A', 'age': 35, 'company': 'Đất Việt'}\n",
      "{'name': 'A', 'age': 35, 'company': 'Đất Việt'}\n",
      "<class 'str'>\n",
      "<class 'dict'>\n"
     ]
    }
   ],
   "source": [
    "import json #vidu2.2.2.2.ipynb\n",
    "\n",
    "#\n",
    "json_string_1='{\"name\":\"A\",\"age\":35, \"company\":\"Đất Việt\"}'\n",
    "\n",
    "#\n",
    "json_string_2=\"{\\\"name\\\":\\\"A\\\",\\\"age\\\":35, \\\"company\\\":\\\"Đất Việt\\\" }\"\n",
    "\n",
    "#Chuyền đổi chuỗi serialize --> python obj\n",
    "json_obj_1 = json.loads(json_string_1)\n",
    "json_obj_2 = json.loads(json_string_2)\n",
    "\n",
    "print(json_obj_1)\n",
    "print(json_obj_2)\n",
    "\n",
    "print(type(json_string_1))\n",
    "print(type(json_obj_1))"
   ]
  },
  {
   "cell_type": "code",
   "execution_count": 4,
   "metadata": {},
   "outputs": [
    {
     "name": "stdout",
     "output_type": "stream",
     "text": [
      "{\"name\": \"A\", \"age\": 35, \"company\": \"Đất Việt\"}\n",
      "<class 'str'>\n"
     ]
    }
   ],
   "source": [
    "import json\n",
    "\n",
    "# Đối tượng Python (đối tượng JSON)\n",
    "data = {\n",
    "    \"name\": \"A\",\n",
    "    \"age\": 35,\n",
    "    \"company\": \"Đất Việt\"\n",
    "}\n",
    "\n",
    "# Chuyển đối tượng Python thành chuỗi JSON\n",
    "json_string = json.dumps(data, ensure_ascii=False)\n",
    "\n",
    "print(json_string)\n",
    "print(type(json_string))"
   ]
  }
 ],
 "metadata": {
  "kernelspec": {
   "display_name": "Python 3",
   "language": "python",
   "name": "python3"
  },
  "language_info": {
   "codemirror_mode": {
    "name": "ipython",
    "version": 3
   },
   "file_extension": ".py",
   "mimetype": "text/x-python",
   "name": "python",
   "nbconvert_exporter": "python",
   "pygments_lexer": "ipython3",
   "version": "3.11.6"
  },
  "orig_nbformat": 4
 },
 "nbformat": 4,
 "nbformat_minor": 2
}
