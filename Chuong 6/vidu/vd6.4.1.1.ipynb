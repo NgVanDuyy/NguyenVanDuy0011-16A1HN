{
 "cells": [
  {
   "cell_type": "code",
   "execution_count": 2,
   "metadata": {},
   "outputs": [
    {
     "name": "stdout",
     "output_type": "stream",
     "text": [
      "Lần lặp 0: x = 200000\n",
      "Lần lặp 1: x = 200000\n",
      "Lần lặp 2: x = 200000\n",
      "Lần lặp 3: x = 200000\n",
      "Lần lặp 4: x = 200000\n",
      "Lần lặp 5: x = 200000\n",
      "Lần lặp 6: x = 200000\n",
      "Lần lặp 7: x = 200000\n",
      "Lần lặp 8: x = 200000\n",
      "Lần lặp 9: x = 200000\n"
     ]
    }
   ],
   "source": [
    "import threading\n",
    "\n",
    "x = 0\n",
    "\n",
    "def increment():\n",
    "    global x\n",
    "    x += 1\n",
    "\n",
    "def thread_task():\n",
    "    for _ in range(100000):\n",
    "        increment()\n",
    "\n",
    "def main_task():\n",
    "    global x\n",
    "    x = 0\n",
    "\n",
    "    t1 = threading.Thread(target=thread_task)\n",
    "    t2 = threading.Thread(target=thread_task)\n",
    "\n",
    "    t1.start()\n",
    "    t2.start()\n",
    "   \n",
    "    t1.join()\n",
    "    t2.join()\n",
    "\n",
    "for i in range(10):\n",
    "    main_task()\n",
    "    print(\"Lần lặp {0}: x = {1}\".format(i, x))"
   ]
  }
 ],
 "metadata": {
  "kernelspec": {
   "display_name": "base",
   "language": "python",
   "name": "python3"
  },
  "language_info": {
   "codemirror_mode": {
    "name": "ipython",
    "version": 3
   },
   "file_extension": ".py",
   "mimetype": "text/x-python",
   "name": "python",
   "nbconvert_exporter": "python",
   "pygments_lexer": "ipython3",
   "version": "3.11.5"
  }
 },
 "nbformat": 4,
 "nbformat_minor": 2
}
