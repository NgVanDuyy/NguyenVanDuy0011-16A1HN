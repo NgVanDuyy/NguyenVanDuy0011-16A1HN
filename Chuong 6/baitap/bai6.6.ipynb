{
 "cells": [
  {
   "cell_type": "code",
   "execution_count": 1,
   "metadata": {},
   "outputs": [
    {
     "name": "stdout",
     "output_type": "stream",
     "text": [
      "Even: 0\n",
      "Odd: 1\n",
      "Even: 2\n",
      "Odd: 3\n",
      "Even: 4\n",
      "Odd: 5\n",
      "Even: 6\n",
      "Odd: 7\n",
      "Even: 8\n",
      "Odd: 9\n",
      "Even: 10\n",
      "Odd: 11\n",
      "Even: 12\n",
      "Odd: 13\n",
      "Even: 14\n",
      "Odd: 15\n",
      "Even: 16\n",
      "Odd: 17\n",
      "Even: 18\n",
      "Odd: 19\n",
      "Even: 20\n",
      "Odd: 21\n"
     ]
    }
   ],
   "source": [
    "import threading\n",
    "\n",
    "class NumberWriter:\n",
    "    def __init__(self, limit):\n",
    "        self.limit = limit\n",
    "        self.current_number = 0\n",
    "        self.lock = threading.Lock()\n",
    "\n",
    "    def write_even_numbers(self):\n",
    "        while self.current_number <= self.limit:\n",
    "            with self.lock:\n",
    "                if self.current_number % 2 == 0:\n",
    "                    print(f\"Even: {self.current_number}\")\n",
    "                    self.current_number += 1\n",
    "\n",
    "    def write_odd_numbers(self):\n",
    "        while self.current_number <= self.limit:\n",
    "            with self.lock:\n",
    "                if self.current_number % 2 != 0:\n",
    "                    print(f\"Odd: {self.current_number}\")\n",
    "                    self.current_number += 1\n",
    "\n",
    "def main():\n",
    "    # Ngưỡng nhất định\n",
    "    limit = 20\n",
    "\n",
    "    # Tạo đối tượng NumberWriter\n",
    "    number_writer = NumberWriter(limit)\n",
    "\n",
    "    # Tạo và khởi chạy hai luồng\n",
    "    thread_even = threading.Thread(target=number_writer.write_even_numbers)\n",
    "    thread_odd = threading.Thread(target=number_writer.write_odd_numbers)\n",
    "\n",
    "    thread_even.start()\n",
    "    thread_odd.start()\n",
    "\n",
    "    # Chờ cho cả hai luồng hoàn thành\n",
    "    thread_even.join()\n",
    "    thread_odd.join()\n",
    "\n",
    "if __name__ == \"__main__\":\n",
    "    main()\n"
   ]
  }
 ],
 "metadata": {
  "kernelspec": {
   "display_name": "base",
   "language": "python",
   "name": "python3"
  },
  "language_info": {
   "codemirror_mode": {
    "name": "ipython",
    "version": 3
   },
   "file_extension": ".py",
   "mimetype": "text/x-python",
   "name": "python",
   "nbconvert_exporter": "python",
   "pygments_lexer": "ipython3",
   "version": "3.11.5"
  }
 },
 "nbformat": 4,
 "nbformat_minor": 2
}
