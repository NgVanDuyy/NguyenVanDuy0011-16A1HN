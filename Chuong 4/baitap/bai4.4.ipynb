{
 "cells": [
  {
   "cell_type": "code",
   "execution_count": 1,
   "metadata": {},
   "outputs": [
    {
     "name": "stdout",
     "output_type": "stream",
     "text": [
      "1. Ser1 sau khi xóa các mục có mặt trong Ser2:\n",
      "0    1\n",
      "1    2\n",
      "2    3\n",
      "dtype: int64\n",
      "\n",
      "2. Tất cả các mục của Ser1 và Ser2 không nằm chung:\n",
      "0    1\n",
      "1    2\n",
      "2    3\n",
      "2    6\n",
      "3    7\n",
      "4    8\n",
      "dtype: int64\n"
     ]
    }
   ],
   "source": [
    "import pandas as pd\n",
    "\n",
    "# Tạo hai Series\n",
    "ser1 = pd.Series([1, 2, 3, 4, 5])\n",
    "ser2 = pd.Series([4, 5, 6, 7, 8])\n",
    "\n",
    "# 1. Xóa các mục trong ser1 có mặt trong ser2\n",
    "ser1_without_duplicates = ser1[~ser1.isin(ser2)]\n",
    "\n",
    "# 2. Lấy tất cả các mục của ser1 và ser2 nhưng không nằm chung trong cả hai\n",
    "all_items_except_common = pd.concat([ser1[~ser1.isin(ser2)], ser2[~ser2.isin(ser1)]])\n",
    "\n",
    "# Hiển thị kết quả\n",
    "print(\"1. Ser1 sau khi xóa các mục có mặt trong Ser2:\")\n",
    "print(ser1_without_duplicates)\n",
    "\n",
    "print(\"\\n2. Tất cả các mục của Ser1 và Ser2 không nằm chung:\")\n",
    "print(all_items_except_common)\n"
   ]
  }
 ],
 "metadata": {
  "kernelspec": {
   "display_name": "base",
   "language": "python",
   "name": "python3"
  },
  "language_info": {
   "codemirror_mode": {
    "name": "ipython",
    "version": 3
   },
   "file_extension": ".py",
   "mimetype": "text/x-python",
   "name": "python",
   "nbconvert_exporter": "python",
   "pygments_lexer": "ipython3",
   "version": "3.11.5"
  }
 },
 "nbformat": 4,
 "nbformat_minor": 2
}
