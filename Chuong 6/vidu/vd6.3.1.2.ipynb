{
 "cells": [
  {
   "cell_type": "code",
   "execution_count": 2,
   "metadata": {},
   "outputs": [
    {
     "name": "stdout",
     "output_type": "stream",
     "text": [
      "Square: 100\n",
      "Cube: 1000\n",
      "Main loop: 0\n",
      "Done!\n",
      "Main loop: 1\n",
      "Done!\n",
      "Main loop: 2\n",
      "Done!\n",
      "Main loop: 3\n",
      "Done!\n",
      "Main loop: 4\n",
      "Done!\n"
     ]
    }
   ],
   "source": [
    "import threading\n",
    "def print_cube(num):\n",
    "    # function to print cube of given num\n",
    "    print(\"Cube: {}\".format(num * num * num))\n",
    "def print_square(num):\n",
    "    # function to print square of given num\n",
    "    print(\"Square: {}\".format(num * num))\n",
    "if __name__ == \"__main__\":\n",
    "    # creating thread\n",
    "    t1 = threading.Thread(target=print_square, args=(10,))  \n",
    "    t2 = threading.Thread(target=print_cube, args=(10,))  # start the threads\n",
    "    t1.start()\n",
    "    t2.start()\n",
    "    # wait until both threads finish\n",
    "    t1.join()\n",
    "    t2.join()\n",
    "    # continue with the main loop\n",
    "for i in range(5):\n",
    "    print(\"Main loop: {}\".format(i))\n",
    "    print(\"Done!\") \n"
   ]
  }
 ],
 "metadata": {
  "kernelspec": {
   "display_name": "base",
   "language": "python",
   "name": "python3"
  },
  "language_info": {
   "codemirror_mode": {
    "name": "ipython",
    "version": 3
   },
   "file_extension": ".py",
   "mimetype": "text/x-python",
   "name": "python",
   "nbconvert_exporter": "python",
   "pygments_lexer": "ipython3",
   "version": "3.11.5"
  }
 },
 "nbformat": 4,
 "nbformat_minor": 2
}
