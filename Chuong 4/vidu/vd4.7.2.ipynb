{
 "cells": [
  {
   "cell_type": "code",
   "execution_count": 1,
   "metadata": {},
   "outputs": [],
   "source": [
    "import numpy as np\n",
    "import pandas as pd"
   ]
  },
  {
   "cell_type": "code",
   "execution_count": 3,
   "metadata": {},
   "outputs": [
    {
     "name": "stdout",
     "output_type": "stream",
     "text": [
      "Dữ liệu df1:\n",
      "   Nhân viên Phòng/Ban\n",
      "0      Bình   Kế toán\n",
      "1      Minh  Kỹ thuật\n",
      "2       Lan  Kỹ thuật\n",
      "3       Vân      HCQT\n",
      "\n",
      " Dữ liệu df2:\n",
      "   Nhân viên   Năm\n",
      "0      Bình  2020\n",
      "1      Minh  2010\n",
      "2       Lan  2004\n",
      "3       Vân  2011\n",
      "  Nhân viên Phòng/Ban   Năm\n",
      "0      Bình   Kế toán  2020\n",
      "1      Minh  Kỹ thuật  2010\n",
      "2       Lan  Kỹ thuật  2004\n",
      "3       Vân      HCQT  2011\n"
     ]
    }
   ],
   "source": [
    "#One-to-one joins\n",
    "df1=pd.DataFrame( \n",
    "    {\n",
    "        'Nhân viên':['Bình','Minh','Lan','Vân'],\n",
    "        'Phòng/Ban':['Kế toán','Kỹ thuật','Kỹ thuật','HCQT'] \n",
    "    }\n",
    ")\n",
    "df2=pd.DataFrame( \n",
    "    {\n",
    "        'Nhân viên':['Bình','Minh','Lan','Vân'],\n",
    "        'Năm':[2020,2010,2004,2011] \n",
    "    }\n",
    ")\n",
    "print(\"Dữ liệu df1:\\n\",df1)\n",
    "print(\"\\n Dữ liệu df2:\\n\",df2)\n",
    "\n",
    "nhanvien=pd.merge(df1,df2) #nhanvien ~ df3\n",
    "print(nhanvien) "
   ]
  },
  {
   "cell_type": "markdown",
   "metadata": {},
   "source": [
    "#### vd4.7.2.2"
   ]
  },
  {
   "cell_type": "code",
   "execution_count": 4,
   "metadata": {},
   "outputs": [
    {
     "name": "stdout",
     "output_type": "stream",
     "text": [
      "\n",
      " df3 :\n",
      "   Nhân viên Phòng/Ban   Năm\n",
      "0      Bình   Kế toán  2020\n",
      "1      Minh  Kỹ thuật  2010\n",
      "2       Lan  Kỹ thuật  2004\n",
      "3       Vân      HCQT  2011\n",
      "  Phòng/Ban Quản lý\n",
      "0   Kế toán      Ly\n",
      "1  Kỹ thuật   Cường\n",
      "2      HCQT    Minh\n",
      "\n",
      "Merrge Quản lý & Nhân viên :\n",
      "   Nhân viên Phòng/Ban   Năm Quản lý\n",
      "0      Bình   Kế toán  2020      Ly\n",
      "1      Minh  Kỹ thuật  2010   Cường\n",
      "2       Lan  Kỹ thuật  2004   Cường\n",
      "3       Vân      HCQT  2011    Minh\n"
     ]
    }
   ],
   "source": [
    "#One – to - Many\n",
    "quanly=pd.DataFrame( \n",
    "    {\n",
    "        'Phòng/Ban':['Kế toán','Kỹ thuật','HCQT'],  \n",
    "        'Quản lý':['Ly','Cường','Minh'] \n",
    "    }\n",
    ")\n",
    "print(\"\\n df3 :\\n\",nhanvien) ; print(quanly) \n",
    "#Quan hệ One-to_Many giữa Quản lý và Nhân viên\n",
    "print(\"\\nMerrge Quản lý & Nhân viên :\\n\", pd.merge(nhanvien,quanly)) "
   ]
  },
  {
   "cell_type": "markdown",
   "metadata": {},
   "source": [
    "#### vd4.7.2.3"
   ]
  },
  {
   "cell_type": "code",
   "execution_count": 5,
   "metadata": {},
   "outputs": [
    {
     "name": "stdout",
     "output_type": "stream",
     "text": [
      "  Nhân viên Phòng/Ban   Năm\n",
      "0      Bình   Kế toán  2020\n",
      "1      Minh  Kỹ thuật  2010\n",
      "2       Lan  Kỹ thuật  2004\n",
      "3       Vân      HCQT  2011\n",
      "\n",
      " quanly :\n",
      "   Phòng/Ban Quản lý\n",
      "0   Kế toán      Ly\n",
      "1  Kỹ thuật   Cường\n",
      "2      HCQT     Ban\n",
      "\n",
      "Merge nhanvien & quanly : \n",
      "   Nhân viên Phòng/Ban   Năm Quản lý\n",
      "0      Bình   Kế toán  2020      Ly\n",
      "1      Minh  Kỹ thuật  2010   Cường\n",
      "2       Lan  Kỹ thuật  2004   Cường\n",
      "3       Vân      HCQT  2011     Ban\n"
     ]
    }
   ],
   "source": [
    "quanly=pd.DataFrame({'Phòng/Ban':['Kế toán','Kỹ thuật','HCQT'],  \n",
    "                     'Quản lý':['Ly','Cường','Ban']}) \n",
    "print(nhanvien); print(\"\\n quanly :\\n\",quanly)\n",
    "print(\"\\nMerge nhanvien & quanly : \\n\",pd.merge(nhanvien,quanly)) "
   ]
  },
  {
   "cell_type": "markdown",
   "metadata": {},
   "source": [
    "#### vd4.7.2.4"
   ]
  },
  {
   "cell_type": "code",
   "execution_count": 6,
   "metadata": {},
   "outputs": [
    {
     "data": {
      "text/html": [
       "<div>\n",
       "<style scoped>\n",
       "    .dataframe tbody tr th:only-of-type {\n",
       "        vertical-align: middle;\n",
       "    }\n",
       "\n",
       "    .dataframe tbody tr th {\n",
       "        vertical-align: top;\n",
       "    }\n",
       "\n",
       "    .dataframe thead th {\n",
       "        text-align: right;\n",
       "    }\n",
       "</style>\n",
       "<table border=\"1\" class=\"dataframe\">\n",
       "  <thead>\n",
       "    <tr style=\"text-align: right;\">\n",
       "      <th></th>\n",
       "      <th>Nhân viên</th>\n",
       "      <th>Phòng/Ban</th>\n",
       "      <th>Năm</th>\n",
       "    </tr>\n",
       "  </thead>\n",
       "  <tbody>\n",
       "    <tr>\n",
       "      <th>0</th>\n",
       "      <td>Bình</td>\n",
       "      <td>Kế toán</td>\n",
       "      <td>2020</td>\n",
       "    </tr>\n",
       "    <tr>\n",
       "      <th>1</th>\n",
       "      <td>Minh</td>\n",
       "      <td>Kỹ thuật</td>\n",
       "      <td>2010</td>\n",
       "    </tr>\n",
       "    <tr>\n",
       "      <th>2</th>\n",
       "      <td>Lan</td>\n",
       "      <td>Kỹ thuật</td>\n",
       "      <td>2004</td>\n",
       "    </tr>\n",
       "    <tr>\n",
       "      <th>3</th>\n",
       "      <td>Vân</td>\n",
       "      <td>HCQT</td>\n",
       "      <td>2011</td>\n",
       "    </tr>\n",
       "  </tbody>\n",
       "</table>\n",
       "</div>"
      ],
      "text/plain": [
       "  Nhân viên Phòng/Ban   Năm\n",
       "0      Bình   Kế toán  2020\n",
       "1      Minh  Kỹ thuật  2010\n",
       "2       Lan  Kỹ thuật  2004\n",
       "3       Vân      HCQT  2011"
      ]
     },
     "execution_count": 6,
     "metadata": {},
     "output_type": "execute_result"
    }
   ],
   "source": [
    "pd.merge(df1,df2,on='Nhân viên')"
   ]
  },
  {
   "cell_type": "markdown",
   "metadata": {},
   "source": [
    "#### vd4.7.2.5\n"
   ]
  },
  {
   "cell_type": "code",
   "execution_count": 8,
   "metadata": {},
   "outputs": [
    {
     "name": "stdout",
     "output_type": "stream",
     "text": [
      "   Name   salary\n",
      "0  Bình  7000000\n",
      "1  Minh  9000000\n",
      "2   Lan  9500000\n",
      "3   Vân  8000000\n"
     ]
    }
   ],
   "source": [
    "nv_salary=pd.DataFrame(\n",
    "    {\n",
    "        'Name':['Bình','Minh','Lan','Vân'],\n",
    "        'salary':[7000000,9000000,9500000,8000000]\n",
    "    }\n",
    ")\n",
    "print(nv_salary)"
   ]
  },
  {
   "cell_type": "code",
   "execution_count": 9,
   "metadata": {},
   "outputs": [
    {
     "name": "stdout",
     "output_type": "stream",
     "text": [
      "Lương nv ứng với từng lĩnh vực:\n",
      "   Nhân viên Phòng/Ban  Name   salary\n",
      "0      Bình   Kế toán  Bình  7000000\n",
      "1      Minh  Kỹ thuật  Minh  9000000\n",
      "2       Lan  Kỹ thuật   Lan  9500000\n",
      "3       Vân      HCQT   Vân  8000000\n"
     ]
    }
   ],
   "source": [
    "print(\"Lương nv ứng với từng lĩnh vực:\\n\",\n",
    "pd.merge(df1,nv_salary,left_on='Nhân viên',  right_on='Name')) "
   ]
  },
  {
   "cell_type": "code",
   "execution_count": 10,
   "metadata": {},
   "outputs": [
    {
     "data": {
      "text/html": [
       "<div>\n",
       "<style scoped>\n",
       "    .dataframe tbody tr th:only-of-type {\n",
       "        vertical-align: middle;\n",
       "    }\n",
       "\n",
       "    .dataframe tbody tr th {\n",
       "        vertical-align: top;\n",
       "    }\n",
       "\n",
       "    .dataframe thead th {\n",
       "        text-align: right;\n",
       "    }\n",
       "</style>\n",
       "<table border=\"1\" class=\"dataframe\">\n",
       "  <thead>\n",
       "    <tr style=\"text-align: right;\">\n",
       "      <th></th>\n",
       "      <th>Nhân viên</th>\n",
       "      <th>Phòng/Ban</th>\n",
       "      <th>salary</th>\n",
       "    </tr>\n",
       "  </thead>\n",
       "  <tbody>\n",
       "    <tr>\n",
       "      <th>0</th>\n",
       "      <td>Bình</td>\n",
       "      <td>Kế toán</td>\n",
       "      <td>7000000</td>\n",
       "    </tr>\n",
       "    <tr>\n",
       "      <th>1</th>\n",
       "      <td>Minh</td>\n",
       "      <td>Kỹ thuật</td>\n",
       "      <td>9000000</td>\n",
       "    </tr>\n",
       "    <tr>\n",
       "      <th>2</th>\n",
       "      <td>Lan</td>\n",
       "      <td>Kỹ thuật</td>\n",
       "      <td>9500000</td>\n",
       "    </tr>\n",
       "    <tr>\n",
       "      <th>3</th>\n",
       "      <td>Vân</td>\n",
       "      <td>HCQT</td>\n",
       "      <td>8000000</td>\n",
       "    </tr>\n",
       "  </tbody>\n",
       "</table>\n",
       "</div>"
      ],
      "text/plain": [
       "  Nhân viên Phòng/Ban   salary\n",
       "0      Bình   Kế toán  7000000\n",
       "1      Minh  Kỹ thuật  9000000\n",
       "2       Lan  Kỹ thuật  9500000\n",
       "3       Vân      HCQT  8000000"
      ]
     },
     "execution_count": 10,
     "metadata": {},
     "output_type": "execute_result"
    }
   ],
   "source": [
    "pd.merge(df1,nv_salary,left_on='Nhân viên', right_on='Name').drop('Name',axis=1)"
   ]
  },
  {
   "cell_type": "markdown",
   "metadata": {},
   "source": [
    "#### vd4.7.2.6"
   ]
  },
  {
   "cell_type": "code",
   "execution_count": 12,
   "metadata": {},
   "outputs": [
    {
     "data": {
      "text/html": [
       "<div>\n",
       "<style scoped>\n",
       "    .dataframe tbody tr th:only-of-type {\n",
       "        vertical-align: middle;\n",
       "    }\n",
       "\n",
       "    .dataframe tbody tr th {\n",
       "        vertical-align: top;\n",
       "    }\n",
       "\n",
       "    .dataframe thead th {\n",
       "        text-align: right;\n",
       "    }\n",
       "</style>\n",
       "<table border=\"1\" class=\"dataframe\">\n",
       "  <thead>\n",
       "    <tr style=\"text-align: right;\">\n",
       "      <th></th>\n",
       "      <th>Phòng/Ban</th>\n",
       "      <th>Năm</th>\n",
       "    </tr>\n",
       "    <tr>\n",
       "      <th>Nhân viên</th>\n",
       "      <th></th>\n",
       "      <th></th>\n",
       "    </tr>\n",
       "  </thead>\n",
       "  <tbody>\n",
       "    <tr>\n",
       "      <th>Bình</th>\n",
       "      <td>Kế toán</td>\n",
       "      <td>2020</td>\n",
       "    </tr>\n",
       "    <tr>\n",
       "      <th>Minh</th>\n",
       "      <td>Kỹ thuật</td>\n",
       "      <td>2010</td>\n",
       "    </tr>\n",
       "    <tr>\n",
       "      <th>Lan</th>\n",
       "      <td>Kỹ thuật</td>\n",
       "      <td>2004</td>\n",
       "    </tr>\n",
       "    <tr>\n",
       "      <th>Vân</th>\n",
       "      <td>HCQT</td>\n",
       "      <td>2011</td>\n",
       "    </tr>\n",
       "  </tbody>\n",
       "</table>\n",
       "</div>"
      ],
      "text/plain": [
       "          Phòng/Ban   Năm\n",
       "Nhân viên                \n",
       "Bình        Kế toán  2020\n",
       "Minh       Kỹ thuật  2010\n",
       "Lan        Kỹ thuật  2004\n",
       "Vân            HCQT  2011"
      ]
     },
     "execution_count": 12,
     "metadata": {},
     "output_type": "execute_result"
    }
   ],
   "source": [
    "df1_idx=df1.set_index('Nhân viên')\n",
    "df2_idx=df2.set_index('Nhân viên')\n",
    "df3_idx=pd.merge(df1_idx,df2_idx,left_index=True,  right_index=True) \n",
    "df3_idx"
   ]
  },
  {
   "cell_type": "code",
   "execution_count": 13,
   "metadata": {},
   "outputs": [
    {
     "data": {
      "text/html": [
       "<div>\n",
       "<style scoped>\n",
       "    .dataframe tbody tr th:only-of-type {\n",
       "        vertical-align: middle;\n",
       "    }\n",
       "\n",
       "    .dataframe tbody tr th {\n",
       "        vertical-align: top;\n",
       "    }\n",
       "\n",
       "    .dataframe thead th {\n",
       "        text-align: right;\n",
       "    }\n",
       "</style>\n",
       "<table border=\"1\" class=\"dataframe\">\n",
       "  <thead>\n",
       "    <tr style=\"text-align: right;\">\n",
       "      <th></th>\n",
       "      <th>Phòng/Ban</th>\n",
       "      <th>Năm</th>\n",
       "    </tr>\n",
       "    <tr>\n",
       "      <th>Nhân viên</th>\n",
       "      <th></th>\n",
       "      <th></th>\n",
       "    </tr>\n",
       "  </thead>\n",
       "  <tbody>\n",
       "    <tr>\n",
       "      <th>Bình</th>\n",
       "      <td>Kế toán</td>\n",
       "      <td>2020</td>\n",
       "    </tr>\n",
       "    <tr>\n",
       "      <th>Minh</th>\n",
       "      <td>Kỹ thuật</td>\n",
       "      <td>2010</td>\n",
       "    </tr>\n",
       "    <tr>\n",
       "      <th>Lan</th>\n",
       "      <td>Kỹ thuật</td>\n",
       "      <td>2004</td>\n",
       "    </tr>\n",
       "    <tr>\n",
       "      <th>Vân</th>\n",
       "      <td>HCQT</td>\n",
       "      <td>2011</td>\n",
       "    </tr>\n",
       "  </tbody>\n",
       "</table>\n",
       "</div>"
      ],
      "text/plain": [
       "          Phòng/Ban   Năm\n",
       "Nhân viên                \n",
       "Bình        Kế toán  2020\n",
       "Minh       Kỹ thuật  2010\n",
       "Lan        Kỹ thuật  2004\n",
       "Vân            HCQT  2011"
      ]
     },
     "execution_count": 13,
     "metadata": {},
     "output_type": "execute_result"
    }
   ],
   "source": [
    "df1_idx.join(df2_idx)"
   ]
  },
  {
   "cell_type": "markdown",
   "metadata": {},
   "source": [
    "#### vd4.7.2.7"
   ]
  },
  {
   "cell_type": "code",
   "execution_count": 14,
   "metadata": {},
   "outputs": [
    {
     "data": {
      "text/html": [
       "<div>\n",
       "<style scoped>\n",
       "    .dataframe tbody tr th:only-of-type {\n",
       "        vertical-align: middle;\n",
       "    }\n",
       "\n",
       "    .dataframe tbody tr th {\n",
       "        vertical-align: top;\n",
       "    }\n",
       "\n",
       "    .dataframe thead th {\n",
       "        text-align: right;\n",
       "    }\n",
       "</style>\n",
       "<table border=\"1\" class=\"dataframe\">\n",
       "  <thead>\n",
       "    <tr style=\"text-align: right;\">\n",
       "      <th></th>\n",
       "      <th>Năm</th>\n",
       "      <th>Name</th>\n",
       "      <th>salary</th>\n",
       "    </tr>\n",
       "  </thead>\n",
       "  <tbody>\n",
       "    <tr>\n",
       "      <th>0</th>\n",
       "      <td>2020</td>\n",
       "      <td>Bình</td>\n",
       "      <td>7000000</td>\n",
       "    </tr>\n",
       "    <tr>\n",
       "      <th>1</th>\n",
       "      <td>2010</td>\n",
       "      <td>Minh</td>\n",
       "      <td>9000000</td>\n",
       "    </tr>\n",
       "    <tr>\n",
       "      <th>2</th>\n",
       "      <td>2004</td>\n",
       "      <td>Lan</td>\n",
       "      <td>9500000</td>\n",
       "    </tr>\n",
       "    <tr>\n",
       "      <th>3</th>\n",
       "      <td>2011</td>\n",
       "      <td>Vân</td>\n",
       "      <td>8000000</td>\n",
       "    </tr>\n",
       "  </tbody>\n",
       "</table>\n",
       "</div>"
      ],
      "text/plain": [
       "    Năm  Name   salary\n",
       "0  2020  Bình  7000000\n",
       "1  2010  Minh  9000000\n",
       "2  2004   Lan  9500000\n",
       "3  2011   Vân  8000000"
      ]
     },
     "execution_count": 14,
     "metadata": {},
     "output_type": "execute_result"
    }
   ],
   "source": [
    "pd.merge(df2_idx,nv_salary, left_index=True,right_on='Name')"
   ]
  },
  {
   "cell_type": "markdown",
   "metadata": {},
   "source": [
    "#### vd4.7.2.8"
   ]
  },
  {
   "cell_type": "code",
   "execution_count": 16,
   "metadata": {},
   "outputs": [
    {
     "name": "stdout",
     "output_type": "stream",
     "text": [
      "\n",
      "Nơi sinh và tuổi của nv:\n",
      "   Nhân viên  Nơi sinh  Age\n",
      "0      Bình    Hà Nội   28\n",
      "1       Lan  Nam định   55\n"
     ]
    }
   ],
   "source": [
    "nv_location=pd.DataFrame(\n",
    "    {\n",
    "        'Nhân viên':['Bình', 'Minh','Lan'],\n",
    "        'Nơi sinh':['Hà Nội','Hồ Chí Minh','Nam định']  \n",
    "    }\n",
    ")\n",
    "nv_age=pd.DataFrame(\n",
    "    {\n",
    "        'Nhân viên':['Bình','Vân','Lan'],\n",
    "        'Age':[28,43,55]\n",
    "    }\n",
    ")\n",
    "print(\"\\nNơi sinh và tuổi của nv:\\n\", pd.merge(nv_location,nv_age)) "
   ]
  },
  {
   "cell_type": "code",
   "execution_count": 17,
   "metadata": {},
   "outputs": [
    {
     "name": "stdout",
     "output_type": "stream",
     "text": [
      "\n",
      "Nơi sinh và tuổi của nv:\n",
      "   Nhân viên  Nơi sinh  Age\n",
      "0      Bình    Hà Nội   28\n",
      "1       Lan  Nam định   55\n"
     ]
    }
   ],
   "source": [
    "print(\"\\nNơi sinh và tuổi của nv:\\n\", pd.merge(nv_location,nv_age, how='inner')) "
   ]
  },
  {
   "cell_type": "code",
   "execution_count": 18,
   "metadata": {},
   "outputs": [
    {
     "name": "stdout",
     "output_type": "stream",
     "text": [
      "\n",
      "Nơi sinh và tuổi của nv:\n",
      "   Nhân viên     Nơi sinh   Age\n",
      "0      Bình       Hà Nội  28.0\n",
      "1      Minh  Hồ Chí Minh   NaN\n",
      "2       Lan     Nam định  55.0\n",
      "3       Vân          NaN  43.0\n"
     ]
    }
   ],
   "source": [
    "print(\"\\nNơi sinh và tuổi của nv:\\n\", pd.merge(nv_location,nv_age, how='outer')) "
   ]
  },
  {
   "cell_type": "code",
   "execution_count": 19,
   "metadata": {},
   "outputs": [
    {
     "name": "stdout",
     "output_type": "stream",
     "text": [
      "\n",
      "Nơi sinh và tuổi của nv:\n",
      "   Nhân viên     Nơi sinh   Age\n",
      "0      Bình       Hà Nội  28.0\n",
      "1      Minh  Hồ Chí Minh   NaN\n",
      "2       Lan     Nam định  55.0\n",
      "\n",
      "Nơi sinh và tuổi của nv:\n",
      "   Nhân viên  Nơi sinh  Age\n",
      "0      Bình    Hà Nội   28\n",
      "1       Vân       NaN   43\n",
      "2       Lan  Nam định   55\n"
     ]
    }
   ],
   "source": [
    "print(\"\\nNơi sinh và tuổi của nv:\\n\",pd.merge(nv_location,nv_age, how='left')) \n",
    "\n",
    "print(\"\\nNơi sinh và tuổi của nv:\\n\",pd.merge(nv_location,nv_age, how='right')) "
   ]
  },
  {
   "cell_type": "markdown",
   "metadata": {},
   "source": [
    "#### vd4.7.2.12"
   ]
  },
  {
   "cell_type": "code",
   "execution_count": 20,
   "metadata": {},
   "outputs": [
    {
     "name": "stdout",
     "output_type": "stream",
     "text": [
      "Xếp hạng trên số ngày nghỉ:\n",
      "   Nhân viên  rank\n",
      "0      Bình     1\n",
      "1       Lan     2\n",
      "2      Minh     3\n",
      "3       Vân     4\n",
      "Xếp hạng trên hiệu suất công việc:\n",
      "   Nhân viên  rank\n",
      "0      Bình     4\n",
      "1       Lan     3\n",
      "2      Minh     1\n",
      "3       Vân     2\n",
      "\n",
      "Bảng xếp hạng :\n",
      "   Nhân viên  rank_x  rank_y\n",
      "0      Bình       1       4\n",
      "1       Lan       2       3\n",
      "2      Minh       3       1\n",
      "3       Vân       4       2\n"
     ]
    }
   ],
   "source": [
    "vang_rank=pd.DataFrame(\n",
    "    {\n",
    "        'Nhân viên':['Bình','Lan','Minh','Vân'],  'rank':[1,2,3,4]\n",
    "    }\n",
    ")\n",
    "hs_rank=pd.DataFrame(\n",
    "    {\n",
    "        'Nhân viên':['Bình','Lan','Minh','Vân'],  'rank':[4,3,1,2]\n",
    "    }\n",
    ")\n",
    "print(\"Xếp hạng trên số ngày nghỉ:\\n\",vang_rank) \n",
    "print(\"Xếp hạng trên hiệu suất công việc:\\n\",hs_rank) \n",
    "print(\"\\nBảng xếp hạng :\\n\",pd.merge(vang_rank,hs_rank,  on='Nhân viên')) "
   ]
  }
 ],
 "metadata": {
  "kernelspec": {
   "display_name": "base",
   "language": "python",
   "name": "python3"
  },
  "language_info": {
   "codemirror_mode": {
    "name": "ipython",
    "version": 3
   },
   "file_extension": ".py",
   "mimetype": "text/x-python",
   "name": "python",
   "nbconvert_exporter": "python",
   "pygments_lexer": "ipython3",
   "version": "3.11.5"
  }
 },
 "nbformat": 4,
 "nbformat_minor": 2
}
