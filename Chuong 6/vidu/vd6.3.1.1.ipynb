{
 "cells": [
  {
   "cell_type": "code",
   "execution_count": 2,
   "metadata": {},
   "outputs": [
    {
     "name": "stdout",
     "output_type": "stream",
     "text": [
      "Đối số là:  10\n",
      "Đây là luồng đang chạy!!\n"
     ]
    }
   ],
   "source": [
    "import threading\n",
    "def my_function(arg):\n",
    "    # Công việc của luồng\n",
    "    print(\"Đối số là: \",arg)\n",
    "    print(\"Đây là luồng đang chạy!!\")\n",
    "my_thread = threading.Thread(target=my_function, args=(10,)) \n",
    "my_thread.start()"
   ]
  }
 ],
 "metadata": {
  "kernelspec": {
   "display_name": "base",
   "language": "python",
   "name": "python3"
  },
  "language_info": {
   "codemirror_mode": {
    "name": "ipython",
    "version": 3
   },
   "file_extension": ".py",
   "mimetype": "text/x-python",
   "name": "python",
   "nbconvert_exporter": "python",
   "pygments_lexer": "ipython3",
   "version": "3.11.5"
  }
 },
 "nbformat": 4,
 "nbformat_minor": 2
}
