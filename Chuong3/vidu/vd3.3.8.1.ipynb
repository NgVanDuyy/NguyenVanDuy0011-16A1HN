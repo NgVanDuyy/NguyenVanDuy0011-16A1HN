{
 "cells": [
  {
   "cell_type": "code",
   "execution_count": 1,
   "metadata": {},
   "outputs": [
    {
     "name": "stdout",
     "output_type": "stream",
     "text": [
      "[('Minh', 22, 181.3) ('Lan', 40, 160.6) ('Linh', 31, 163.2)\n",
      " ('Lương', 18, 166.5) ('Thanh', 50, 170. )]\n",
      "[('name', '<U20'), ('age', '<i4'), ('height', '<f8')]\n"
     ]
    }
   ],
   "source": [
    "import numpy as np\n",
    "\n",
    "# Định nghĩa kiểu dữ liệu cho một Structured Array\n",
    "dtype = [('name', 'U20'), ('age', int), ('height', float)]\n",
    "\n",
    "# Tạo một Structured Array\n",
    "data = np.array([('Minh', 22, 181.3),\n",
    "                 ('Lan', 40, 160.6),\n",
    "                 ('Linh', 31, 163.2),\n",
    "                 ('Lương',18,166.5),\n",
    "                 ('Thanh',50, 170.0)], dtype=dtype)\n",
    "\n",
    "print(data)\n",
    "print(data.dtype)"
   ]
  }
 ],
 "metadata": {
  "kernelspec": {
   "display_name": "base",
   "language": "python",
   "name": "python3"
  },
  "language_info": {
   "codemirror_mode": {
    "name": "ipython",
    "version": 3
   },
   "file_extension": ".py",
   "mimetype": "text/x-python",
   "name": "python",
   "nbconvert_exporter": "python",
   "pygments_lexer": "ipython3",
   "version": "3.11.5"
  }
 },
 "nbformat": 4,
 "nbformat_minor": 2
}
