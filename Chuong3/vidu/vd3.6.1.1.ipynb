{
 "cells": [
  {
   "cell_type": "code",
   "execution_count": 2,
   "metadata": {},
   "outputs": [
    {
     "name": "stdout",
     "output_type": "stream",
     "text": [
      "[20 40 50]\n"
     ]
    }
   ],
   "source": [
    "import numpy as np\n",
    "arr = np.array([10, 20, 30,40, 50,60,70,80,90])\n",
    "\n",
    "#Truy xuất các phần tử bằng một danh sách các chỉ mục\n",
    "indices=[1,3,4]\n",
    "sub_arr_1=arr[indices]\n",
    "\n",
    "print(sub_arr_1)"
   ]
  },
  {
   "cell_type": "code",
   "execution_count": 5,
   "metadata": {},
   "outputs": [
    {
     "name": "stdout",
     "output_type": "stream",
     "text": [
      "Original Array:\n",
      " [10 20 30 40 50 60 70 80 90]\n",
      "After boolean condition: [60 70 80 90]\n"
     ]
    }
   ],
   "source": [
    "#fancy indexing và boolean\n",
    "sub_arr_boolean=arr[arr>50]\n",
    "print(\"Original Array:\\n\",arr)\n",
    "\n",
    "#Boolean indexing\n",
    "print(\"After boolean condition:\",arr[arr>50])"
   ]
  }
 ],
 "metadata": {
  "kernelspec": {
   "display_name": "base",
   "language": "python",
   "name": "python3"
  },
  "language_info": {
   "codemirror_mode": {
    "name": "ipython",
    "version": 3
   },
   "file_extension": ".py",
   "mimetype": "text/x-python",
   "name": "python",
   "nbconvert_exporter": "python",
   "pygments_lexer": "ipython3",
   "version": "3.11.5"
  }
 },
 "nbformat": 4,
 "nbformat_minor": 2
}
