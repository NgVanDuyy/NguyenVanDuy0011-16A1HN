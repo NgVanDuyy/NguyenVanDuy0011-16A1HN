{
 "cells": [
  {
   "cell_type": "code",
   "execution_count": 1,
   "metadata": {},
   "outputs": [
    {
     "name": "stdout",
     "output_type": "stream",
     "text": [
      "Original Series:\n",
      "0     how\n",
      "1      to\n",
      "2    kick\n",
      "3    ass?\n",
      "dtype: object\n",
      "\n",
      "Series after capitalization:\n",
      "0     How\n",
      "1      To\n",
      "2    Kick\n",
      "3    Ass?\n",
      "dtype: object\n"
     ]
    }
   ],
   "source": [
    "import pandas as pd\n",
    "\n",
    "# Tạo một Series\n",
    "ser = pd.Series(['how', 'to', 'kick', 'ass?'])\n",
    "\n",
    "# Chuyển đổi ký tự đầu tiên của mỗi phần tử thành chữ hoa\n",
    "ser_capitalized = ser.str.capitalize()\n",
    "\n",
    "# Hiển thị kết quả\n",
    "print(\"Original Series:\")\n",
    "print(ser)\n",
    "\n",
    "print(\"\\nSeries after capitalization:\")\n",
    "print(ser_capitalized)\n"
   ]
  }
 ],
 "metadata": {
  "kernelspec": {
   "display_name": "base",
   "language": "python",
   "name": "python3"
  },
  "language_info": {
   "codemirror_mode": {
    "name": "ipython",
    "version": 3
   },
   "file_extension": ".py",
   "mimetype": "text/x-python",
   "name": "python",
   "nbconvert_exporter": "python",
   "pygments_lexer": "ipython3",
   "version": "3.11.5"
  }
 },
 "nbformat": 4,
 "nbformat_minor": 2
}
